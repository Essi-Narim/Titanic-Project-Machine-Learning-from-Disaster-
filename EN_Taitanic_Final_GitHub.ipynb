{
  "nbformat": 4,
  "nbformat_minor": 0,
  "metadata": {
    "colab": {
      "provenance": [],
      "collapsed_sections": [
        "u_iLjdnBB5vV",
        "Y8cv9U84E7Ak"
      ],
      "mount_file_id": "1niF-Llp_N3zYoAOkdddO41CxMLm-yp8o",
      "authorship_tag": "ABX9TyNOYL4PmYAKU636Bh9Vd16b",
      "include_colab_link": true
    },
    "kernelspec": {
      "name": "python3",
      "display_name": "Python 3"
    },
    "language_info": {
      "name": "python"
    }
  },
  "cells": [
    {
      "cell_type": "markdown",
      "metadata": {
        "id": "view-in-github",
        "colab_type": "text"
      },
      "source": [
        "<a href=\"https://colab.research.google.com/github/Essi-Narim/Titanic-Project-Machine-Learning-from-Disaster-/blob/main/EN_Taitanic_Final_GitHub.ipynb\" target=\"_parent\"><img src=\"https://colab.research.google.com/assets/colab-badge.svg\" alt=\"Open In Colab\"/></a>"
      ]
    },
    {
      "cell_type": "markdown",
      "source": [
        "#     ***Titanic Project: Machine Learning from Disaster!***\n",
        "\n",
        "The aim of this notebook is to provide a step-by-step walkthrough of how a data scientist tackles a problem. Specifically, we'll be looking at the challenge of predicting whether an individual survived the infamous Titanic shipwreck.\n",
        "\n",
        "Here's a brief overview of the approach we'll take:\n",
        "\n",
        "1.\t**Shape Analysis**: understanding the data shape through methods like histograms and box plots.\n",
        "2.\t**EDA**: exploring the data to identify any patterns or insights that may be useful for modeling.\n",
        "3.  **Data Cleaning**: cleaning the data to ensure it's consistent and free from errors or inconsistencies.\n",
        "4.\t**Feature Engineering & Data pre-Processing for ML**: creating new features that may help improve model accuracy.\n",
        "5.\t**Machine Learning** \n",
        "6.\t**Deep Learning with TensorFlow & SKLEARN** \n"
      ],
      "metadata": {
        "id": "GTXrr2yExD4z"
      }
    },
    {
      "cell_type": "markdown",
      "source": [
        "# **1. Shape Analysis**"
      ],
      "metadata": {
        "id": "Kr8cmzqfy885"
      }
    },
    {
      "cell_type": "markdown",
      "source": [
        "## 1.1 Importing Libraries & Data"
      ],
      "metadata": {
        "id": "pSPtMbI70Jk6"
      }
    },
    {
      "cell_type": "code",
      "source": [
        "import pandas as pd\n",
        "import numpy as np\n",
        "import matplotlib.pyplot as plt\n",
        "import seaborn as sns\n",
        "#magic command to display matplotlib plots inline\n",
        "%matplotlib inline "
      ],
      "metadata": {
        "id": "USIJBoFY0aXz"
      },
      "execution_count": null,
      "outputs": []
    },
    {
      "cell_type": "code",
      "source": [
        "df_train = pd.read_csv(\"./Data/train.csv\") \n",
        "df_test = pd.read_csv(\"./Data/test.csv\")\n",
        "df_train [\"train_test\"] = 1\n",
        "df_test [\"train_test\"] = 0\n",
        "## df_train['Survived'] = df_train['Survived'].replace({0: 'No', 1: 'Yes'}) # make target variable more descriptive\n",
        "df_test [\"Survived\"] = np.NaN\n",
        "df_all = pd.concat([df_train, df_test])\n"
      ],
      "metadata": {
        "id": "aQ1HA0kV0mJu"
      },
      "execution_count": null,
      "outputs": []
    },
    {
      "cell_type": "markdown",
      "source": [
        "Lines 3-4 create a new column called \"train_test\" in both DataFrames, and set the value to 1 for \"df_train\" and 0 for \"df_test\". This column is created as a way to distinguish between the two sets of data after they are combined.\n",
        "\n",
        "The line \"df_test [\"Survived\"] = np.NaN\" adds a new column named \"Survived\" to \"df_test\" with all values initialized to NaN (not a number). This is because the **\"Survived\"** column is the ***target variable*** we want to predict, and it is *missing* in the **test** dataset.\n",
        "\n",
        "Finally, the last line of code uses the pandas \"concat\" function to combine both DataFrames vertically into a single DataFrame called \"df_all\". This merged DataFrame will be used for further data exploration, cleaning, and feature engineering."
      ],
      "metadata": {
        "id": "z7Qr3O2w3wK6"
      }
    },
    {
      "cell_type": "markdown",
      "source": [
        "## 1.2 Shape Analysis"
      ],
      "metadata": {
        "id": "JQdsKrgL5hvl"
      }
    },
    {
      "cell_type": "code",
      "source": [
        "# columns of ALL dataset\n",
        "df_all.columns"
      ],
      "metadata": {
        "id": "nF9qSomG4i0M",
        "colab": {
          "base_uri": "https://localhost:8080/"
        },
        "outputId": "311fceeb-be9c-4d96-d5d9-9b331907cc49"
      },
      "execution_count": null,
      "outputs": [
        {
          "output_type": "execute_result",
          "data": {
            "text/plain": [
              "Index(['PassengerId', 'Survived', 'Pclass', 'Name', 'Sex', 'Age', 'SibSp',\n",
              "       'Parch', 'Ticket', 'Fare', 'Cabin', 'Embarked', 'train_test'],\n",
              "      dtype='object')"
            ]
          },
          "metadata": {},
          "execution_count": 3
        }
      ]
    },
    {
      "cell_type": "code",
      "source": [
        "# Data types & null counts of Train\n",
        "df_train.info()\n",
        "# Central tendencies of numeric data of Train\n",
        "df_train.describe()"
      ],
      "metadata": {
        "colab": {
          "base_uri": "https://localhost:8080/",
          "height": 647
        },
        "id": "O93jk2zm6-Eu",
        "outputId": "e699f628-a365-4f47-9ef2-992ad6a8a265"
      },
      "execution_count": null,
      "outputs": [
        {
          "output_type": "stream",
          "name": "stdout",
          "text": [
            "<class 'pandas.core.frame.DataFrame'>\n",
            "RangeIndex: 891 entries, 0 to 890\n",
            "Data columns (total 13 columns):\n",
            " #   Column       Non-Null Count  Dtype  \n",
            "---  ------       --------------  -----  \n",
            " 0   PassengerId  891 non-null    int64  \n",
            " 1   Survived     891 non-null    int64  \n",
            " 2   Pclass       891 non-null    int64  \n",
            " 3   Name         891 non-null    object \n",
            " 4   Sex          891 non-null    object \n",
            " 5   Age          714 non-null    float64\n",
            " 6   SibSp        891 non-null    int64  \n",
            " 7   Parch        891 non-null    int64  \n",
            " 8   Ticket       891 non-null    object \n",
            " 9   Fare         891 non-null    float64\n",
            " 10  Cabin        204 non-null    object \n",
            " 11  Embarked     889 non-null    object \n",
            " 12  train_test   891 non-null    int64  \n",
            "dtypes: float64(2), int64(6), object(5)\n",
            "memory usage: 90.6+ KB\n"
          ]
        },
        {
          "output_type": "execute_result",
          "data": {
            "text/plain": [
              "       PassengerId    Survived      Pclass         Age       SibSp  \\\n",
              "count   891.000000  891.000000  891.000000  714.000000  891.000000   \n",
              "mean    446.000000    0.383838    2.308642   29.699118    0.523008   \n",
              "std     257.353842    0.486592    0.836071   14.526497    1.102743   \n",
              "min       1.000000    0.000000    1.000000    0.420000    0.000000   \n",
              "25%     223.500000    0.000000    2.000000   20.125000    0.000000   \n",
              "50%     446.000000    0.000000    3.000000   28.000000    0.000000   \n",
              "75%     668.500000    1.000000    3.000000   38.000000    1.000000   \n",
              "max     891.000000    1.000000    3.000000   80.000000    8.000000   \n",
              "\n",
              "            Parch        Fare  train_test  \n",
              "count  891.000000  891.000000       891.0  \n",
              "mean     0.381594   32.204208         1.0  \n",
              "std      0.806057   49.693429         0.0  \n",
              "min      0.000000    0.000000         1.0  \n",
              "25%      0.000000    7.910400         1.0  \n",
              "50%      0.000000   14.454200         1.0  \n",
              "75%      0.000000   31.000000         1.0  \n",
              "max      6.000000  512.329200         1.0  "
            ],
            "text/html": [
              "\n",
              "  <div id=\"df-df4d2f49-59cb-4292-96d7-60405f6884f1\">\n",
              "    <div class=\"colab-df-container\">\n",
              "      <div>\n",
              "<style scoped>\n",
              "    .dataframe tbody tr th:only-of-type {\n",
              "        vertical-align: middle;\n",
              "    }\n",
              "\n",
              "    .dataframe tbody tr th {\n",
              "        vertical-align: top;\n",
              "    }\n",
              "\n",
              "    .dataframe thead th {\n",
              "        text-align: right;\n",
              "    }\n",
              "</style>\n",
              "<table border=\"1\" class=\"dataframe\">\n",
              "  <thead>\n",
              "    <tr style=\"text-align: right;\">\n",
              "      <th></th>\n",
              "      <th>PassengerId</th>\n",
              "      <th>Survived</th>\n",
              "      <th>Pclass</th>\n",
              "      <th>Age</th>\n",
              "      <th>SibSp</th>\n",
              "      <th>Parch</th>\n",
              "      <th>Fare</th>\n",
              "      <th>train_test</th>\n",
              "    </tr>\n",
              "  </thead>\n",
              "  <tbody>\n",
              "    <tr>\n",
              "      <th>count</th>\n",
              "      <td>891.000000</td>\n",
              "      <td>891.000000</td>\n",
              "      <td>891.000000</td>\n",
              "      <td>714.000000</td>\n",
              "      <td>891.000000</td>\n",
              "      <td>891.000000</td>\n",
              "      <td>891.000000</td>\n",
              "      <td>891.0</td>\n",
              "    </tr>\n",
              "    <tr>\n",
              "      <th>mean</th>\n",
              "      <td>446.000000</td>\n",
              "      <td>0.383838</td>\n",
              "      <td>2.308642</td>\n",
              "      <td>29.699118</td>\n",
              "      <td>0.523008</td>\n",
              "      <td>0.381594</td>\n",
              "      <td>32.204208</td>\n",
              "      <td>1.0</td>\n",
              "    </tr>\n",
              "    <tr>\n",
              "      <th>std</th>\n",
              "      <td>257.353842</td>\n",
              "      <td>0.486592</td>\n",
              "      <td>0.836071</td>\n",
              "      <td>14.526497</td>\n",
              "      <td>1.102743</td>\n",
              "      <td>0.806057</td>\n",
              "      <td>49.693429</td>\n",
              "      <td>0.0</td>\n",
              "    </tr>\n",
              "    <tr>\n",
              "      <th>min</th>\n",
              "      <td>1.000000</td>\n",
              "      <td>0.000000</td>\n",
              "      <td>1.000000</td>\n",
              "      <td>0.420000</td>\n",
              "      <td>0.000000</td>\n",
              "      <td>0.000000</td>\n",
              "      <td>0.000000</td>\n",
              "      <td>1.0</td>\n",
              "    </tr>\n",
              "    <tr>\n",
              "      <th>25%</th>\n",
              "      <td>223.500000</td>\n",
              "      <td>0.000000</td>\n",
              "      <td>2.000000</td>\n",
              "      <td>20.125000</td>\n",
              "      <td>0.000000</td>\n",
              "      <td>0.000000</td>\n",
              "      <td>7.910400</td>\n",
              "      <td>1.0</td>\n",
              "    </tr>\n",
              "    <tr>\n",
              "      <th>50%</th>\n",
              "      <td>446.000000</td>\n",
              "      <td>0.000000</td>\n",
              "      <td>3.000000</td>\n",
              "      <td>28.000000</td>\n",
              "      <td>0.000000</td>\n",
              "      <td>0.000000</td>\n",
              "      <td>14.454200</td>\n",
              "      <td>1.0</td>\n",
              "    </tr>\n",
              "    <tr>\n",
              "      <th>75%</th>\n",
              "      <td>668.500000</td>\n",
              "      <td>1.000000</td>\n",
              "      <td>3.000000</td>\n",
              "      <td>38.000000</td>\n",
              "      <td>1.000000</td>\n",
              "      <td>0.000000</td>\n",
              "      <td>31.000000</td>\n",
              "      <td>1.0</td>\n",
              "    </tr>\n",
              "    <tr>\n",
              "      <th>max</th>\n",
              "      <td>891.000000</td>\n",
              "      <td>1.000000</td>\n",
              "      <td>3.000000</td>\n",
              "      <td>80.000000</td>\n",
              "      <td>8.000000</td>\n",
              "      <td>6.000000</td>\n",
              "      <td>512.329200</td>\n",
              "      <td>1.0</td>\n",
              "    </tr>\n",
              "  </tbody>\n",
              "</table>\n",
              "</div>\n",
              "      <button class=\"colab-df-convert\" onclick=\"convertToInteractive('df-df4d2f49-59cb-4292-96d7-60405f6884f1')\"\n",
              "              title=\"Convert this dataframe to an interactive table.\"\n",
              "              style=\"display:none;\">\n",
              "        \n",
              "  <svg xmlns=\"http://www.w3.org/2000/svg\" height=\"24px\"viewBox=\"0 0 24 24\"\n",
              "       width=\"24px\">\n",
              "    <path d=\"M0 0h24v24H0V0z\" fill=\"none\"/>\n",
              "    <path d=\"M18.56 5.44l.94 2.06.94-2.06 2.06-.94-2.06-.94-.94-2.06-.94 2.06-2.06.94zm-11 1L8.5 8.5l.94-2.06 2.06-.94-2.06-.94L8.5 2.5l-.94 2.06-2.06.94zm10 10l.94 2.06.94-2.06 2.06-.94-2.06-.94-.94-2.06-.94 2.06-2.06.94z\"/><path d=\"M17.41 7.96l-1.37-1.37c-.4-.4-.92-.59-1.43-.59-.52 0-1.04.2-1.43.59L10.3 9.45l-7.72 7.72c-.78.78-.78 2.05 0 2.83L4 21.41c.39.39.9.59 1.41.59.51 0 1.02-.2 1.41-.59l7.78-7.78 2.81-2.81c.8-.78.8-2.07 0-2.86zM5.41 20L4 18.59l7.72-7.72 1.47 1.35L5.41 20z\"/>\n",
              "  </svg>\n",
              "      </button>\n",
              "      \n",
              "  <style>\n",
              "    .colab-df-container {\n",
              "      display:flex;\n",
              "      flex-wrap:wrap;\n",
              "      gap: 12px;\n",
              "    }\n",
              "\n",
              "    .colab-df-convert {\n",
              "      background-color: #E8F0FE;\n",
              "      border: none;\n",
              "      border-radius: 50%;\n",
              "      cursor: pointer;\n",
              "      display: none;\n",
              "      fill: #1967D2;\n",
              "      height: 32px;\n",
              "      padding: 0 0 0 0;\n",
              "      width: 32px;\n",
              "    }\n",
              "\n",
              "    .colab-df-convert:hover {\n",
              "      background-color: #E2EBFA;\n",
              "      box-shadow: 0px 1px 2px rgba(60, 64, 67, 0.3), 0px 1px 3px 1px rgba(60, 64, 67, 0.15);\n",
              "      fill: #174EA6;\n",
              "    }\n",
              "\n",
              "    [theme=dark] .colab-df-convert {\n",
              "      background-color: #3B4455;\n",
              "      fill: #D2E3FC;\n",
              "    }\n",
              "\n",
              "    [theme=dark] .colab-df-convert:hover {\n",
              "      background-color: #434B5C;\n",
              "      box-shadow: 0px 1px 3px 1px rgba(0, 0, 0, 0.15);\n",
              "      filter: drop-shadow(0px 1px 2px rgba(0, 0, 0, 0.3));\n",
              "      fill: #FFFFFF;\n",
              "    }\n",
              "  </style>\n",
              "\n",
              "      <script>\n",
              "        const buttonEl =\n",
              "          document.querySelector('#df-df4d2f49-59cb-4292-96d7-60405f6884f1 button.colab-df-convert');\n",
              "        buttonEl.style.display =\n",
              "          google.colab.kernel.accessAllowed ? 'block' : 'none';\n",
              "\n",
              "        async function convertToInteractive(key) {\n",
              "          const element = document.querySelector('#df-df4d2f49-59cb-4292-96d7-60405f6884f1');\n",
              "          const dataTable =\n",
              "            await google.colab.kernel.invokeFunction('convertToInteractive',\n",
              "                                                     [key], {});\n",
              "          if (!dataTable) return;\n",
              "\n",
              "          const docLinkHtml = 'Like what you see? Visit the ' +\n",
              "            '<a target=\"_blank\" href=https://colab.research.google.com/notebooks/data_table.ipynb>data table notebook</a>'\n",
              "            + ' to learn more about interactive tables.';\n",
              "          element.innerHTML = '';\n",
              "          dataTable['output_type'] = 'display_data';\n",
              "          await google.colab.output.renderOutput(dataTable, element);\n",
              "          const docLink = document.createElement('div');\n",
              "          docLink.innerHTML = docLinkHtml;\n",
              "          element.appendChild(docLink);\n",
              "        }\n",
              "      </script>\n",
              "    </div>\n",
              "  </div>\n",
              "  "
            ]
          },
          "metadata": {},
          "execution_count": 4
        }
      ]
    },
    {
      "cell_type": "markdown",
      "source": [
        "We have missing values in Age (float), Cabin (obj), and Embarked (obj)."
      ],
      "metadata": {
        "id": "-l9z53Bc7PSo"
      }
    },
    {
      "cell_type": "markdown",
      "source": [
        "# **2. Explaratory Data Analysis**\n",
        "\n",
        "EDA will be performed only on **Training** data frame (df_train)"
      ],
      "metadata": {
        "id": "u_iLjdnBB5vV"
      }
    },
    {
      "cell_type": "markdown",
      "source": [
        "## 2.1 Separation of Numerical & Categorical variables"
      ],
      "metadata": {
        "id": "E__APDfKCTWz"
      }
    },
    {
      "cell_type": "code",
      "source": [
        "# make a list of all categorical varaibles in training df\n",
        "cat_ls = list(df_train.select_dtypes(\"object\").columns); print(cat_ls)\n",
        "# make a df of only categorical varaibles in training df\n",
        "df_cat = df_train[cat_ls]; df_cat.head()"
      ],
      "metadata": {
        "colab": {
          "base_uri": "https://localhost:8080/"
        },
        "id": "k5m-L6jY8f6Z",
        "outputId": "10234a3a-03f5-434c-f4e7-fd7db36d1138"
      },
      "execution_count": null,
      "outputs": [
        {
          "output_type": "stream",
          "name": "stdout",
          "text": [
            "['Name', 'Sex', 'Ticket', 'Cabin', 'Embarked']\n"
          ]
        },
        {
          "output_type": "execute_result",
          "data": {
            "text/plain": [
              "                                                Name     Sex  \\\n",
              "0                            Braund, Mr. Owen Harris    male   \n",
              "1  Cumings, Mrs. John Bradley (Florence Briggs Th...  female   \n",
              "2                             Heikkinen, Miss. Laina  female   \n",
              "3       Futrelle, Mrs. Jacques Heath (Lily May Peel)  female   \n",
              "4                           Allen, Mr. William Henry    male   \n",
              "\n",
              "             Ticket Cabin Embarked  \n",
              "0         A/5 21171   NaN        S  \n",
              "1          PC 17599   C85        C  \n",
              "2  STON/O2. 3101282   NaN        S  \n",
              "3            113803  C123        S  \n",
              "4            373450   NaN        S  "
            ],
            "text/html": [
              "\n",
              "  <div id=\"df-1373a686-8565-4bb9-b48f-762ca17b888e\">\n",
              "    <div class=\"colab-df-container\">\n",
              "      <div>\n",
              "<style scoped>\n",
              "    .dataframe tbody tr th:only-of-type {\n",
              "        vertical-align: middle;\n",
              "    }\n",
              "\n",
              "    .dataframe tbody tr th {\n",
              "        vertical-align: top;\n",
              "    }\n",
              "\n",
              "    .dataframe thead th {\n",
              "        text-align: right;\n",
              "    }\n",
              "</style>\n",
              "<table border=\"1\" class=\"dataframe\">\n",
              "  <thead>\n",
              "    <tr style=\"text-align: right;\">\n",
              "      <th></th>\n",
              "      <th>Name</th>\n",
              "      <th>Sex</th>\n",
              "      <th>Ticket</th>\n",
              "      <th>Cabin</th>\n",
              "      <th>Embarked</th>\n",
              "    </tr>\n",
              "  </thead>\n",
              "  <tbody>\n",
              "    <tr>\n",
              "      <th>0</th>\n",
              "      <td>Braund, Mr. Owen Harris</td>\n",
              "      <td>male</td>\n",
              "      <td>A/5 21171</td>\n",
              "      <td>NaN</td>\n",
              "      <td>S</td>\n",
              "    </tr>\n",
              "    <tr>\n",
              "      <th>1</th>\n",
              "      <td>Cumings, Mrs. John Bradley (Florence Briggs Th...</td>\n",
              "      <td>female</td>\n",
              "      <td>PC 17599</td>\n",
              "      <td>C85</td>\n",
              "      <td>C</td>\n",
              "    </tr>\n",
              "    <tr>\n",
              "      <th>2</th>\n",
              "      <td>Heikkinen, Miss. Laina</td>\n",
              "      <td>female</td>\n",
              "      <td>STON/O2. 3101282</td>\n",
              "      <td>NaN</td>\n",
              "      <td>S</td>\n",
              "    </tr>\n",
              "    <tr>\n",
              "      <th>3</th>\n",
              "      <td>Futrelle, Mrs. Jacques Heath (Lily May Peel)</td>\n",
              "      <td>female</td>\n",
              "      <td>113803</td>\n",
              "      <td>C123</td>\n",
              "      <td>S</td>\n",
              "    </tr>\n",
              "    <tr>\n",
              "      <th>4</th>\n",
              "      <td>Allen, Mr. William Henry</td>\n",
              "      <td>male</td>\n",
              "      <td>373450</td>\n",
              "      <td>NaN</td>\n",
              "      <td>S</td>\n",
              "    </tr>\n",
              "  </tbody>\n",
              "</table>\n",
              "</div>\n",
              "      <button class=\"colab-df-convert\" onclick=\"convertToInteractive('df-1373a686-8565-4bb9-b48f-762ca17b888e')\"\n",
              "              title=\"Convert this dataframe to an interactive table.\"\n",
              "              style=\"display:none;\">\n",
              "        \n",
              "  <svg xmlns=\"http://www.w3.org/2000/svg\" height=\"24px\"viewBox=\"0 0 24 24\"\n",
              "       width=\"24px\">\n",
              "    <path d=\"M0 0h24v24H0V0z\" fill=\"none\"/>\n",
              "    <path d=\"M18.56 5.44l.94 2.06.94-2.06 2.06-.94-2.06-.94-.94-2.06-.94 2.06-2.06.94zm-11 1L8.5 8.5l.94-2.06 2.06-.94-2.06-.94L8.5 2.5l-.94 2.06-2.06.94zm10 10l.94 2.06.94-2.06 2.06-.94-2.06-.94-.94-2.06-.94 2.06-2.06.94z\"/><path d=\"M17.41 7.96l-1.37-1.37c-.4-.4-.92-.59-1.43-.59-.52 0-1.04.2-1.43.59L10.3 9.45l-7.72 7.72c-.78.78-.78 2.05 0 2.83L4 21.41c.39.39.9.59 1.41.59.51 0 1.02-.2 1.41-.59l7.78-7.78 2.81-2.81c.8-.78.8-2.07 0-2.86zM5.41 20L4 18.59l7.72-7.72 1.47 1.35L5.41 20z\"/>\n",
              "  </svg>\n",
              "      </button>\n",
              "      \n",
              "  <style>\n",
              "    .colab-df-container {\n",
              "      display:flex;\n",
              "      flex-wrap:wrap;\n",
              "      gap: 12px;\n",
              "    }\n",
              "\n",
              "    .colab-df-convert {\n",
              "      background-color: #E8F0FE;\n",
              "      border: none;\n",
              "      border-radius: 50%;\n",
              "      cursor: pointer;\n",
              "      display: none;\n",
              "      fill: #1967D2;\n",
              "      height: 32px;\n",
              "      padding: 0 0 0 0;\n",
              "      width: 32px;\n",
              "    }\n",
              "\n",
              "    .colab-df-convert:hover {\n",
              "      background-color: #E2EBFA;\n",
              "      box-shadow: 0px 1px 2px rgba(60, 64, 67, 0.3), 0px 1px 3px 1px rgba(60, 64, 67, 0.15);\n",
              "      fill: #174EA6;\n",
              "    }\n",
              "\n",
              "    [theme=dark] .colab-df-convert {\n",
              "      background-color: #3B4455;\n",
              "      fill: #D2E3FC;\n",
              "    }\n",
              "\n",
              "    [theme=dark] .colab-df-convert:hover {\n",
              "      background-color: #434B5C;\n",
              "      box-shadow: 0px 1px 3px 1px rgba(0, 0, 0, 0.15);\n",
              "      filter: drop-shadow(0px 1px 2px rgba(0, 0, 0, 0.3));\n",
              "      fill: #FFFFFF;\n",
              "    }\n",
              "  </style>\n",
              "\n",
              "      <script>\n",
              "        const buttonEl =\n",
              "          document.querySelector('#df-1373a686-8565-4bb9-b48f-762ca17b888e button.colab-df-convert');\n",
              "        buttonEl.style.display =\n",
              "          google.colab.kernel.accessAllowed ? 'block' : 'none';\n",
              "\n",
              "        async function convertToInteractive(key) {\n",
              "          const element = document.querySelector('#df-1373a686-8565-4bb9-b48f-762ca17b888e');\n",
              "          const dataTable =\n",
              "            await google.colab.kernel.invokeFunction('convertToInteractive',\n",
              "                                                     [key], {});\n",
              "          if (!dataTable) return;\n",
              "\n",
              "          const docLinkHtml = 'Like what you see? Visit the ' +\n",
              "            '<a target=\"_blank\" href=https://colab.research.google.com/notebooks/data_table.ipynb>data table notebook</a>'\n",
              "            + ' to learn more about interactive tables.';\n",
              "          element.innerHTML = '';\n",
              "          dataTable['output_type'] = 'display_data';\n",
              "          await google.colab.output.renderOutput(dataTable, element);\n",
              "          const docLink = document.createElement('div');\n",
              "          docLink.innerHTML = docLinkHtml;\n",
              "          element.appendChild(docLink);\n",
              "        }\n",
              "      </script>\n",
              "    </div>\n",
              "  </div>\n",
              "  "
            ]
          },
          "metadata": {},
          "execution_count": 5
        }
      ]
    },
    {
      "cell_type": "code",
      "source": [
        "# make a list of all numerical varaibles in training df\n",
        "num_ls  = list(df_train.describe().columns); print(num_ls)\n",
        "# make a df of only numerical varaibles in training df\n",
        "df_num = df_train[num_ls]; df_num.head()"
      ],
      "metadata": {
        "colab": {
          "base_uri": "https://localhost:8080/"
        },
        "id": "DCOYz0m98-of",
        "outputId": "8203596d-c097-4fea-eadc-4326d62ddbd2"
      },
      "execution_count": null,
      "outputs": [
        {
          "output_type": "stream",
          "name": "stdout",
          "text": [
            "['PassengerId', 'Survived', 'Pclass', 'Age', 'SibSp', 'Parch', 'Fare', 'train_test']\n"
          ]
        },
        {
          "output_type": "execute_result",
          "data": {
            "text/plain": [
              "   PassengerId  Survived  Pclass   Age  SibSp  Parch     Fare  train_test\n",
              "0            1         0       3  22.0      1      0   7.2500           1\n",
              "1            2         1       1  38.0      1      0  71.2833           1\n",
              "2            3         1       3  26.0      0      0   7.9250           1\n",
              "3            4         1       1  35.0      1      0  53.1000           1\n",
              "4            5         0       3  35.0      0      0   8.0500           1"
            ],
            "text/html": [
              "\n",
              "  <div id=\"df-a312bed6-b00d-4c5c-93b6-01465dbd54e1\">\n",
              "    <div class=\"colab-df-container\">\n",
              "      <div>\n",
              "<style scoped>\n",
              "    .dataframe tbody tr th:only-of-type {\n",
              "        vertical-align: middle;\n",
              "    }\n",
              "\n",
              "    .dataframe tbody tr th {\n",
              "        vertical-align: top;\n",
              "    }\n",
              "\n",
              "    .dataframe thead th {\n",
              "        text-align: right;\n",
              "    }\n",
              "</style>\n",
              "<table border=\"1\" class=\"dataframe\">\n",
              "  <thead>\n",
              "    <tr style=\"text-align: right;\">\n",
              "      <th></th>\n",
              "      <th>PassengerId</th>\n",
              "      <th>Survived</th>\n",
              "      <th>Pclass</th>\n",
              "      <th>Age</th>\n",
              "      <th>SibSp</th>\n",
              "      <th>Parch</th>\n",
              "      <th>Fare</th>\n",
              "      <th>train_test</th>\n",
              "    </tr>\n",
              "  </thead>\n",
              "  <tbody>\n",
              "    <tr>\n",
              "      <th>0</th>\n",
              "      <td>1</td>\n",
              "      <td>0</td>\n",
              "      <td>3</td>\n",
              "      <td>22.0</td>\n",
              "      <td>1</td>\n",
              "      <td>0</td>\n",
              "      <td>7.2500</td>\n",
              "      <td>1</td>\n",
              "    </tr>\n",
              "    <tr>\n",
              "      <th>1</th>\n",
              "      <td>2</td>\n",
              "      <td>1</td>\n",
              "      <td>1</td>\n",
              "      <td>38.0</td>\n",
              "      <td>1</td>\n",
              "      <td>0</td>\n",
              "      <td>71.2833</td>\n",
              "      <td>1</td>\n",
              "    </tr>\n",
              "    <tr>\n",
              "      <th>2</th>\n",
              "      <td>3</td>\n",
              "      <td>1</td>\n",
              "      <td>3</td>\n",
              "      <td>26.0</td>\n",
              "      <td>0</td>\n",
              "      <td>0</td>\n",
              "      <td>7.9250</td>\n",
              "      <td>1</td>\n",
              "    </tr>\n",
              "    <tr>\n",
              "      <th>3</th>\n",
              "      <td>4</td>\n",
              "      <td>1</td>\n",
              "      <td>1</td>\n",
              "      <td>35.0</td>\n",
              "      <td>1</td>\n",
              "      <td>0</td>\n",
              "      <td>53.1000</td>\n",
              "      <td>1</td>\n",
              "    </tr>\n",
              "    <tr>\n",
              "      <th>4</th>\n",
              "      <td>5</td>\n",
              "      <td>0</td>\n",
              "      <td>3</td>\n",
              "      <td>35.0</td>\n",
              "      <td>0</td>\n",
              "      <td>0</td>\n",
              "      <td>8.0500</td>\n",
              "      <td>1</td>\n",
              "    </tr>\n",
              "  </tbody>\n",
              "</table>\n",
              "</div>\n",
              "      <button class=\"colab-df-convert\" onclick=\"convertToInteractive('df-a312bed6-b00d-4c5c-93b6-01465dbd54e1')\"\n",
              "              title=\"Convert this dataframe to an interactive table.\"\n",
              "              style=\"display:none;\">\n",
              "        \n",
              "  <svg xmlns=\"http://www.w3.org/2000/svg\" height=\"24px\"viewBox=\"0 0 24 24\"\n",
              "       width=\"24px\">\n",
              "    <path d=\"M0 0h24v24H0V0z\" fill=\"none\"/>\n",
              "    <path d=\"M18.56 5.44l.94 2.06.94-2.06 2.06-.94-2.06-.94-.94-2.06-.94 2.06-2.06.94zm-11 1L8.5 8.5l.94-2.06 2.06-.94-2.06-.94L8.5 2.5l-.94 2.06-2.06.94zm10 10l.94 2.06.94-2.06 2.06-.94-2.06-.94-.94-2.06-.94 2.06-2.06.94z\"/><path d=\"M17.41 7.96l-1.37-1.37c-.4-.4-.92-.59-1.43-.59-.52 0-1.04.2-1.43.59L10.3 9.45l-7.72 7.72c-.78.78-.78 2.05 0 2.83L4 21.41c.39.39.9.59 1.41.59.51 0 1.02-.2 1.41-.59l7.78-7.78 2.81-2.81c.8-.78.8-2.07 0-2.86zM5.41 20L4 18.59l7.72-7.72 1.47 1.35L5.41 20z\"/>\n",
              "  </svg>\n",
              "      </button>\n",
              "      \n",
              "  <style>\n",
              "    .colab-df-container {\n",
              "      display:flex;\n",
              "      flex-wrap:wrap;\n",
              "      gap: 12px;\n",
              "    }\n",
              "\n",
              "    .colab-df-convert {\n",
              "      background-color: #E8F0FE;\n",
              "      border: none;\n",
              "      border-radius: 50%;\n",
              "      cursor: pointer;\n",
              "      display: none;\n",
              "      fill: #1967D2;\n",
              "      height: 32px;\n",
              "      padding: 0 0 0 0;\n",
              "      width: 32px;\n",
              "    }\n",
              "\n",
              "    .colab-df-convert:hover {\n",
              "      background-color: #E2EBFA;\n",
              "      box-shadow: 0px 1px 2px rgba(60, 64, 67, 0.3), 0px 1px 3px 1px rgba(60, 64, 67, 0.15);\n",
              "      fill: #174EA6;\n",
              "    }\n",
              "\n",
              "    [theme=dark] .colab-df-convert {\n",
              "      background-color: #3B4455;\n",
              "      fill: #D2E3FC;\n",
              "    }\n",
              "\n",
              "    [theme=dark] .colab-df-convert:hover {\n",
              "      background-color: #434B5C;\n",
              "      box-shadow: 0px 1px 3px 1px rgba(0, 0, 0, 0.15);\n",
              "      filter: drop-shadow(0px 1px 2px rgba(0, 0, 0, 0.3));\n",
              "      fill: #FFFFFF;\n",
              "    }\n",
              "  </style>\n",
              "\n",
              "      <script>\n",
              "        const buttonEl =\n",
              "          document.querySelector('#df-a312bed6-b00d-4c5c-93b6-01465dbd54e1 button.colab-df-convert');\n",
              "        buttonEl.style.display =\n",
              "          google.colab.kernel.accessAllowed ? 'block' : 'none';\n",
              "\n",
              "        async function convertToInteractive(key) {\n",
              "          const element = document.querySelector('#df-a312bed6-b00d-4c5c-93b6-01465dbd54e1');\n",
              "          const dataTable =\n",
              "            await google.colab.kernel.invokeFunction('convertToInteractive',\n",
              "                                                     [key], {});\n",
              "          if (!dataTable) return;\n",
              "\n",
              "          const docLinkHtml = 'Like what you see? Visit the ' +\n",
              "            '<a target=\"_blank\" href=https://colab.research.google.com/notebooks/data_table.ipynb>data table notebook</a>'\n",
              "            + ' to learn more about interactive tables.';\n",
              "          element.innerHTML = '';\n",
              "          dataTable['output_type'] = 'display_data';\n",
              "          await google.colab.output.renderOutput(dataTable, element);\n",
              "          const docLink = document.createElement('div');\n",
              "          docLink.innerHTML = docLinkHtml;\n",
              "          element.appendChild(docLink);\n",
              "        }\n",
              "      </script>\n",
              "    </div>\n",
              "  </div>\n",
              "  "
            ]
          },
          "metadata": {},
          "execution_count": 6
        }
      ]
    },
    {
      "cell_type": "markdown",
      "source": [
        "## 2.2 Exploring Numerical variables (including **target variable** \"Survived\")"
      ],
      "metadata": {
        "id": "0eKzONdFCsPO"
      }
    },
    {
      "cell_type": "markdown",
      "source": [
        "### 2.2.1 **Distribution** of Numerical variables (histograms)"
      ],
      "metadata": {
        "id": "-u681QT3HOkU"
      }
    },
    {
      "cell_type": "code",
      "source": [
        "df_num.hist(bins=10, figsize=(30,20))\n",
        "plt.show()"
      ],
      "metadata": {
        "colab": {
          "base_uri": "https://localhost:8080/"
        },
        "id": "pgWQL28WDC48",
        "outputId": "93f5ac60-d688-4225-9dc8-25f9d63597a5"
      },
      "execution_count": null,
      "outputs": [
        {
          "output_type": "display_data",
          "data": {
            "text/plain": [
              "<Figure size 2160x1440 with 9 Axes>"
            ],
            "image/png": "[encoded data removed]"
          },
          "metadata": {
            "needs_background": "light"
          }
        }
      ]
    },
    {
      "cell_type": "markdown",
      "source": [
        "1. We see that only 'Age' and 'Fare' are of relevance to our modeling mission. \n",
        "\n",
        "2. 'SibSp' and 'Parch' will be treated as Categorical variables!\n",
        "\n",
        "2. Only 'Age' is almost *normally distributed*. For the rest (i.e., 'Fare'), ***normalization*** is required!\n",
        "\n",
        "\n",
        "\n",
        "*   If a variable (x) is not normally distributed, we can apply a **transformation** to *make it more normal before normalization*. One common transformation is the **logarithmic transformation**. See Sec. 4.3 for more about transformation."
      ],
      "metadata": {
        "id": "g0qJ5aH3EyK4"
      }
    },
    {
      "cell_type": "markdown",
      "source": [
        "### 2.2.2 **Correlation** between Numerical variables"
      ],
      "metadata": {
        "id": "qh6rleTCHdJW"
      }
    },
    {
      "cell_type": "code",
      "source": [
        "# drop 'PassengerId', 'train_test'\n",
        "df_num = df_num.drop(['PassengerId', 'train_test'], axis=1)\n",
        "# Heatmap of Correlation Matrix\n",
        "plt.figure(figsize = (12,6)) # define the figure size\n",
        "sns.heatmap(df_num.corr(), annot=True, cmap=\"viridis\")"
      ],
      "metadata": {
        "colab": {
          "base_uri": "https://localhost:8080/"
        },
        "id": "We4kOIfKHiwk",
        "outputId": "ff537c41-0587-4677-aadf-95b0a6d5a078"
      },
      "execution_count": null,
      "outputs": [
        {
          "output_type": "execute_result",
          "data": {
            "text/plain": [
              "<Axes: >"
            ]
          },
          "metadata": {},
          "execution_count": 8
        },
        {
          "output_type": "display_data",
          "data": {
            "text/plain": [
              "<Figure size 864x432 with 2 Axes>"
            ],
            "image/png": "[encoded data removed]"
          },
          "metadata": {
            "needs_background": "light"
          }
        }
      ]
    },
    {
      "cell_type": "markdown",
      "source": [
        "1. Considerable **positive** correlation between:\n",
        "\n",
        "Parch (# of parents / children aboard the Titanic) and SibSp (# of siblings / spouses aboard the Titanic) 0.41;  Parch & Fare 0.22 etc.\n",
        "\n",
        "2. Considerable **negative** correlation between:\n",
        "\n",
        "Pclass & Fare -0.55; Age & Pclass -0.37; Age & SibSp -0.31 etc.\n",
        "\n",
        "We further investigate the relationship between Parch and SibSp, and Pclass and Fare via scatterplots."
      ],
      "metadata": {
        "id": "jQPGH45_LQwl"
      }
    },
    {
      "cell_type": "code",
      "source": [
        "fig, axes = plt.subplots (1, 2, figsize=(12, 5))\n",
        "\n",
        "sns.scatterplot(x=\"Pclass\", y=\"Fare\", data=df_num, ax=axes[0])\n",
        "axes[0].set_xlabel(\"Pclass\")\n",
        "axes[0].set_ylabel(\"Fare\")\n",
        "\n",
        "sns.scatterplot(x=\"Parch\", y=\"SibSp\",data=df_num, ax=axes[1])\n",
        "axes[1].set_xlabel(\"Parch\")\n",
        "axes[1].set_ylabel(\"SibSp\")\n",
        "\n",
        "plt.show()"
      ],
      "metadata": {
        "colab": {
          "base_uri": "https://localhost:8080/"
        },
        "id": "WCCTOCUAOA39",
        "outputId": "4cde5f36-015f-46ee-a667-3d1fec519e17"
      },
      "execution_count": null,
      "outputs": [
        {
          "output_type": "display_data",
          "data": {
            "text/plain": [
              "<Figure size 864x360 with 2 Axes>"
            ],
            "image/png": "[encoded data removed]"
          },
          "metadata": {
            "needs_background": "light"
          }
        }
      ]
    },
    {
      "cell_type": "markdown",
      "source": [
        "Nithing interesting was observed except that Fare is higher for Pclass 1!"
      ],
      "metadata": {
        "id": "nBOV--QPbULf"
      }
    },
    {
      "cell_type": "markdown",
      "source": [
        "## 2.3 Relationship between target varaible (\"Survived\", categorical) and numerical variable"
      ],
      "metadata": {
        "id": "SnRFginB7mnW"
      }
    },
    {
      "cell_type": "code",
      "source": [
        "num_ls_updated  = list(df_num.describe().columns); print (num_ls_updated) # updated list of numerical variables"
      ],
      "metadata": {
        "colab": {
          "base_uri": "https://localhost:8080/"
        },
        "id": "EC1XkEhI3wKb",
        "outputId": "89edae50-6d14-4aaa-a6ce-089beaa71eb9"
      },
      "execution_count": null,
      "outputs": [
        {
          "output_type": "stream",
          "name": "stdout",
          "text": [
            "['Survived', 'Pclass', 'Age', 'SibSp', 'Parch', 'Fare']\n"
          ]
        }
      ]
    },
    {
      "cell_type": "code",
      "source": [
        "fig, axes = plt.subplots(1, len(num_ls_updated), figsize=(50, 8))\n",
        "\n",
        "for i in num_ls_updated:\n",
        "  sns.boxplot(x='Survived', y=i, data=df_train, ax=axes[num_ls_updated.index(i)])\n",
        "  axes[num_ls_updated.index(i)].set_xlabel('Survived') \n",
        "  axes[num_ls_updated.index(i)].set_ylabel(i)\n"
      ],
      "metadata": {
        "colab": {
          "base_uri": "https://localhost:8080/"
        },
        "id": "e7_WB-tuzbYY",
        "outputId": "924fb582-0dc2-44b0-9cb0-ee01733d5b2a"
      },
      "execution_count": null,
      "outputs": [
        {
          "output_type": "display_data",
          "data": {
            "text/plain": [
              "<Figure size 3600x576 with 6 Axes>"
            ],
            "image/png": "[encoded data removed]"
          },
          "metadata": {
            "needs_background": "light"
          }
        }
      ]
    },
    {
      "cell_type": "markdown",
      "source": [
        "**Assumption**: If the medians of a numerical variabales as a fucntion of \"Survived\"  are close, that varaibles is not a good factor for investigating the trget variable!!\n",
        "\n",
        "Conclusion: Pclass, Parch and Fare are important factors in predicting the target variable! Thus, we inestigate the statistics of them:"
      ],
      "metadata": {
        "id": "Y2UAlulF92hy"
      }
    },
    {
      "cell_type": "code",
      "source": [
        "df_train.groupby(\"Survived\")[\"Pclass\"].describe()"
      ],
      "metadata": {
        "colab": {
          "base_uri": "https://localhost:8080/"
        },
        "id": "m-F8H1kU9MFL",
        "outputId": "a41891eb-78aa-4648-e144-2ea3f6a71e37"
      },
      "execution_count": null,
      "outputs": [
        {
          "output_type": "execute_result",
          "data": {
            "text/plain": [
              "          count      mean       std  min  25%  50%  75%  max\n",
              "Survived                                                    \n",
              "0         549.0  2.531876  0.735805  1.0  2.0  3.0  3.0  3.0\n",
              "1         342.0  1.950292  0.863321  1.0  1.0  2.0  3.0  3.0"
            ],
            "text/html": [
              "\n",
              "  <div id=\"df-f0b85354-8623-4331-b18f-0bd3f3c3d109\">\n",
              "    <div class=\"colab-df-container\">\n",
              "      <div>\n",
              "<style scoped>\n",
              "    .dataframe tbody tr th:only-of-type {\n",
              "        vertical-align: middle;\n",
              "    }\n",
              "\n",
              "    .dataframe tbody tr th {\n",
              "        vertical-align: top;\n",
              "    }\n",
              "\n",
              "    .dataframe thead th {\n",
              "        text-align: right;\n",
              "    }\n",
              "</style>\n",
              "<table border=\"1\" class=\"dataframe\">\n",
              "  <thead>\n",
              "    <tr style=\"text-align: right;\">\n",
              "      <th></th>\n",
              "      <th>count</th>\n",
              "      <th>mean</th>\n",
              "      <th>std</th>\n",
              "      <th>min</th>\n",
              "      <th>25%</th>\n",
              "      <th>50%</th>\n",
              "      <th>75%</th>\n",
              "      <th>max</th>\n",
              "    </tr>\n",
              "    <tr>\n",
              "      <th>Survived</th>\n",
              "      <th></th>\n",
              "      <th></th>\n",
              "      <th></th>\n",
              "      <th></th>\n",
              "      <th></th>\n",
              "      <th></th>\n",
              "      <th></th>\n",
              "      <th></th>\n",
              "    </tr>\n",
              "  </thead>\n",
              "  <tbody>\n",
              "    <tr>\n",
              "      <th>0</th>\n",
              "      <td>549.0</td>\n",
              "      <td>2.531876</td>\n",
              "      <td>0.735805</td>\n",
              "      <td>1.0</td>\n",
              "      <td>2.0</td>\n",
              "      <td>3.0</td>\n",
              "      <td>3.0</td>\n",
              "      <td>3.0</td>\n",
              "    </tr>\n",
              "    <tr>\n",
              "      <th>1</th>\n",
              "      <td>342.0</td>\n",
              "      <td>1.950292</td>\n",
              "      <td>0.863321</td>\n",
              "      <td>1.0</td>\n",
              "      <td>1.0</td>\n",
              "      <td>2.0</td>\n",
              "      <td>3.0</td>\n",
              "      <td>3.0</td>\n",
              "    </tr>\n",
              "  </tbody>\n",
              "</table>\n",
              "</div>\n",
              "      <button class=\"colab-df-convert\" onclick=\"convertToInteractive('df-f0b85354-8623-4331-b18f-0bd3f3c3d109')\"\n",
              "              title=\"Convert this dataframe to an interactive table.\"\n",
              "              style=\"display:none;\">\n",
              "        \n",
              "  <svg xmlns=\"http://www.w3.org/2000/svg\" height=\"24px\"viewBox=\"0 0 24 24\"\n",
              "       width=\"24px\">\n",
              "    <path d=\"M0 0h24v24H0V0z\" fill=\"none\"/>\n",
              "    <path d=\"M18.56 5.44l.94 2.06.94-2.06 2.06-.94-2.06-.94-.94-2.06-.94 2.06-2.06.94zm-11 1L8.5 8.5l.94-2.06 2.06-.94-2.06-.94L8.5 2.5l-.94 2.06-2.06.94zm10 10l.94 2.06.94-2.06 2.06-.94-2.06-.94-.94-2.06-.94 2.06-2.06.94z\"/><path d=\"M17.41 7.96l-1.37-1.37c-.4-.4-.92-.59-1.43-.59-.52 0-1.04.2-1.43.59L10.3 9.45l-7.72 7.72c-.78.78-.78 2.05 0 2.83L4 21.41c.39.39.9.59 1.41.59.51 0 1.02-.2 1.41-.59l7.78-7.78 2.81-2.81c.8-.78.8-2.07 0-2.86zM5.41 20L4 18.59l7.72-7.72 1.47 1.35L5.41 20z\"/>\n",
              "  </svg>\n",
              "      </button>\n",
              "      \n",
              "  <style>\n",
              "    .colab-df-container {\n",
              "      display:flex;\n",
              "      flex-wrap:wrap;\n",
              "      gap: 12px;\n",
              "    }\n",
              "\n",
              "    .colab-df-convert {\n",
              "      background-color: #E8F0FE;\n",
              "      border: none;\n",
              "      border-radius: 50%;\n",
              "      cursor: pointer;\n",
              "      display: none;\n",
              "      fill: #1967D2;\n",
              "      height: 32px;\n",
              "      padding: 0 0 0 0;\n",
              "      width: 32px;\n",
              "    }\n",
              "\n",
              "    .colab-df-convert:hover {\n",
              "      background-color: #E2EBFA;\n",
              "      box-shadow: 0px 1px 2px rgba(60, 64, 67, 0.3), 0px 1px 3px 1px rgba(60, 64, 67, 0.15);\n",
              "      fill: #174EA6;\n",
              "    }\n",
              "\n",
              "    [theme=dark] .colab-df-convert {\n",
              "      background-color: #3B4455;\n",
              "      fill: #D2E3FC;\n",
              "    }\n",
              "\n",
              "    [theme=dark] .colab-df-convert:hover {\n",
              "      background-color: #434B5C;\n",
              "      box-shadow: 0px 1px 3px 1px rgba(0, 0, 0, 0.15);\n",
              "      filter: drop-shadow(0px 1px 2px rgba(0, 0, 0, 0.3));\n",
              "      fill: #FFFFFF;\n",
              "    }\n",
              "  </style>\n",
              "\n",
              "      <script>\n",
              "        const buttonEl =\n",
              "          document.querySelector('#df-f0b85354-8623-4331-b18f-0bd3f3c3d109 button.colab-df-convert');\n",
              "        buttonEl.style.display =\n",
              "          google.colab.kernel.accessAllowed ? 'block' : 'none';\n",
              "\n",
              "        async function convertToInteractive(key) {\n",
              "          const element = document.querySelector('#df-f0b85354-8623-4331-b18f-0bd3f3c3d109');\n",
              "          const dataTable =\n",
              "            await google.colab.kernel.invokeFunction('convertToInteractive',\n",
              "                                                     [key], {});\n",
              "          if (!dataTable) return;\n",
              "\n",
              "          const docLinkHtml = 'Like what you see? Visit the ' +\n",
              "            '<a target=\"_blank\" href=https://colab.research.google.com/notebooks/data_table.ipynb>data table notebook</a>'\n",
              "            + ' to learn more about interactive tables.';\n",
              "          element.innerHTML = '';\n",
              "          dataTable['output_type'] = 'display_data';\n",
              "          await google.colab.output.renderOutput(dataTable, element);\n",
              "          const docLink = document.createElement('div');\n",
              "          docLink.innerHTML = docLinkHtml;\n",
              "          element.appendChild(docLink);\n",
              "        }\n",
              "      </script>\n",
              "    </div>\n",
              "  </div>\n",
              "  "
            ]
          },
          "metadata": {},
          "execution_count": 12
        }
      ]
    },
    {
      "cell_type": "code",
      "source": [
        "df_train.groupby(\"Survived\")[\"Parch\"].describe()"
      ],
      "metadata": {
        "colab": {
          "base_uri": "https://localhost:8080/"
        },
        "id": "vrdnQ6qT_vxW",
        "outputId": "5f4910c6-9783-4e7c-9251-17e502e965a3"
      },
      "execution_count": null,
      "outputs": [
        {
          "output_type": "execute_result",
          "data": {
            "text/plain": [
              "          count      mean       std  min  25%  50%  75%  max\n",
              "Survived                                                    \n",
              "0         549.0  0.329690  0.823166  0.0  0.0  0.0  0.0  6.0\n",
              "1         342.0  0.464912  0.771712  0.0  0.0  0.0  1.0  5.0"
            ],
            "text/html": [
              "\n",
              "  <div id=\"df-9fb8fd44-cf64-4ba4-9124-5e83d7e59174\">\n",
              "    <div class=\"colab-df-container\">\n",
              "      <div>\n",
              "<style scoped>\n",
              "    .dataframe tbody tr th:only-of-type {\n",
              "        vertical-align: middle;\n",
              "    }\n",
              "\n",
              "    .dataframe tbody tr th {\n",
              "        vertical-align: top;\n",
              "    }\n",
              "\n",
              "    .dataframe thead th {\n",
              "        text-align: right;\n",
              "    }\n",
              "</style>\n",
              "<table border=\"1\" class=\"dataframe\">\n",
              "  <thead>\n",
              "    <tr style=\"text-align: right;\">\n",
              "      <th></th>\n",
              "      <th>count</th>\n",
              "      <th>mean</th>\n",
              "      <th>std</th>\n",
              "      <th>min</th>\n",
              "      <th>25%</th>\n",
              "      <th>50%</th>\n",
              "      <th>75%</th>\n",
              "      <th>max</th>\n",
              "    </tr>\n",
              "    <tr>\n",
              "      <th>Survived</th>\n",
              "      <th></th>\n",
              "      <th></th>\n",
              "      <th></th>\n",
              "      <th></th>\n",
              "      <th></th>\n",
              "      <th></th>\n",
              "      <th></th>\n",
              "      <th></th>\n",
              "    </tr>\n",
              "  </thead>\n",
              "  <tbody>\n",
              "    <tr>\n",
              "      <th>0</th>\n",
              "      <td>549.0</td>\n",
              "      <td>0.329690</td>\n",
              "      <td>0.823166</td>\n",
              "      <td>0.0</td>\n",
              "      <td>0.0</td>\n",
              "      <td>0.0</td>\n",
              "      <td>0.0</td>\n",
              "      <td>6.0</td>\n",
              "    </tr>\n",
              "    <tr>\n",
              "      <th>1</th>\n",
              "      <td>342.0</td>\n",
              "      <td>0.464912</td>\n",
              "      <td>0.771712</td>\n",
              "      <td>0.0</td>\n",
              "      <td>0.0</td>\n",
              "      <td>0.0</td>\n",
              "      <td>1.0</td>\n",
              "      <td>5.0</td>\n",
              "    </tr>\n",
              "  </tbody>\n",
              "</table>\n",
              "</div>\n",
              "      <button class=\"colab-df-convert\" onclick=\"convertToInteractive('df-9fb8fd44-cf64-4ba4-9124-5e83d7e59174')\"\n",
              "              title=\"Convert this dataframe to an interactive table.\"\n",
              "              style=\"display:none;\">\n",
              "        \n",
              "  <svg xmlns=\"http://www.w3.org/2000/svg\" height=\"24px\"viewBox=\"0 0 24 24\"\n",
              "       width=\"24px\">\n",
              "    <path d=\"M0 0h24v24H0V0z\" fill=\"none\"/>\n",
              "    <path d=\"M18.56 5.44l.94 2.06.94-2.06 2.06-.94-2.06-.94-.94-2.06-.94 2.06-2.06.94zm-11 1L8.5 8.5l.94-2.06 2.06-.94-2.06-.94L8.5 2.5l-.94 2.06-2.06.94zm10 10l.94 2.06.94-2.06 2.06-.94-2.06-.94-.94-2.06-.94 2.06-2.06.94z\"/><path d=\"M17.41 7.96l-1.37-1.37c-.4-.4-.92-.59-1.43-.59-.52 0-1.04.2-1.43.59L10.3 9.45l-7.72 7.72c-.78.78-.78 2.05 0 2.83L4 21.41c.39.39.9.59 1.41.59.51 0 1.02-.2 1.41-.59l7.78-7.78 2.81-2.81c.8-.78.8-2.07 0-2.86zM5.41 20L4 18.59l7.72-7.72 1.47 1.35L5.41 20z\"/>\n",
              "  </svg>\n",
              "      </button>\n",
              "      \n",
              "  <style>\n",
              "    .colab-df-container {\n",
              "      display:flex;\n",
              "      flex-wrap:wrap;\n",
              "      gap: 12px;\n",
              "    }\n",
              "\n",
              "    .colab-df-convert {\n",
              "      background-color: #E8F0FE;\n",
              "      border: none;\n",
              "      border-radius: 50%;\n",
              "      cursor: pointer;\n",
              "      display: none;\n",
              "      fill: #1967D2;\n",
              "      height: 32px;\n",
              "      padding: 0 0 0 0;\n",
              "      width: 32px;\n",
              "    }\n",
              "\n",
              "    .colab-df-convert:hover {\n",
              "      background-color: #E2EBFA;\n",
              "      box-shadow: 0px 1px 2px rgba(60, 64, 67, 0.3), 0px 1px 3px 1px rgba(60, 64, 67, 0.15);\n",
              "      fill: #174EA6;\n",
              "    }\n",
              "\n",
              "    [theme=dark] .colab-df-convert {\n",
              "      background-color: #3B4455;\n",
              "      fill: #D2E3FC;\n",
              "    }\n",
              "\n",
              "    [theme=dark] .colab-df-convert:hover {\n",
              "      background-color: #434B5C;\n",
              "      box-shadow: 0px 1px 3px 1px rgba(0, 0, 0, 0.15);\n",
              "      filter: drop-shadow(0px 1px 2px rgba(0, 0, 0, 0.3));\n",
              "      fill: #FFFFFF;\n",
              "    }\n",
              "  </style>\n",
              "\n",
              "      <script>\n",
              "        const buttonEl =\n",
              "          document.querySelector('#df-9fb8fd44-cf64-4ba4-9124-5e83d7e59174 button.colab-df-convert');\n",
              "        buttonEl.style.display =\n",
              "          google.colab.kernel.accessAllowed ? 'block' : 'none';\n",
              "\n",
              "        async function convertToInteractive(key) {\n",
              "          const element = document.querySelector('#df-9fb8fd44-cf64-4ba4-9124-5e83d7e59174');\n",
              "          const dataTable =\n",
              "            await google.colab.kernel.invokeFunction('convertToInteractive',\n",
              "                                                     [key], {});\n",
              "          if (!dataTable) return;\n",
              "\n",
              "          const docLinkHtml = 'Like what you see? Visit the ' +\n",
              "            '<a target=\"_blank\" href=https://colab.research.google.com/notebooks/data_table.ipynb>data table notebook</a>'\n",
              "            + ' to learn more about interactive tables.';\n",
              "          element.innerHTML = '';\n",
              "          dataTable['output_type'] = 'display_data';\n",
              "          await google.colab.output.renderOutput(dataTable, element);\n",
              "          const docLink = document.createElement('div');\n",
              "          docLink.innerHTML = docLinkHtml;\n",
              "          element.appendChild(docLink);\n",
              "        }\n",
              "      </script>\n",
              "    </div>\n",
              "  </div>\n",
              "  "
            ]
          },
          "metadata": {},
          "execution_count": 13
        }
      ]
    },
    {
      "cell_type": "markdown",
      "source": [
        "* Parch is not a good factor for predicting the target variable!"
      ],
      "metadata": {
        "id": "Swd8R7X5AUSE"
      }
    },
    {
      "cell_type": "code",
      "source": [
        "df_train.groupby(\"Survived\")[\"Fare\"].describe()"
      ],
      "metadata": {
        "colab": {
          "base_uri": "https://localhost:8080/"
        },
        "id": "zmh44Wu8_x67",
        "outputId": "71ead979-931e-4294-8161-dad46d76f821"
      },
      "execution_count": null,
      "outputs": [
        {
          "output_type": "execute_result",
          "data": {
            "text/plain": [
              "          count       mean        std  min      25%   50%   75%       max\n",
              "Survived                                                                 \n",
              "0         549.0  22.117887  31.388207  0.0   7.8542  10.5  26.0  263.0000\n",
              "1         342.0  48.395408  66.596998  0.0  12.4750  26.0  57.0  512.3292"
            ],
            "text/html": [
              "\n",
              "  <div id=\"df-16540585-c13d-46c7-9f0b-97b9930fb8d5\">\n",
              "    <div class=\"colab-df-container\">\n",
              "      <div>\n",
              "<style scoped>\n",
              "    .dataframe tbody tr th:only-of-type {\n",
              "        vertical-align: middle;\n",
              "    }\n",
              "\n",
              "    .dataframe tbody tr th {\n",
              "        vertical-align: top;\n",
              "    }\n",
              "\n",
              "    .dataframe thead th {\n",
              "        text-align: right;\n",
              "    }\n",
              "</style>\n",
              "<table border=\"1\" class=\"dataframe\">\n",
              "  <thead>\n",
              "    <tr style=\"text-align: right;\">\n",
              "      <th></th>\n",
              "      <th>count</th>\n",
              "      <th>mean</th>\n",
              "      <th>std</th>\n",
              "      <th>min</th>\n",
              "      <th>25%</th>\n",
              "      <th>50%</th>\n",
              "      <th>75%</th>\n",
              "      <th>max</th>\n",
              "    </tr>\n",
              "    <tr>\n",
              "      <th>Survived</th>\n",
              "      <th></th>\n",
              "      <th></th>\n",
              "      <th></th>\n",
              "      <th></th>\n",
              "      <th></th>\n",
              "      <th></th>\n",
              "      <th></th>\n",
              "      <th></th>\n",
              "    </tr>\n",
              "  </thead>\n",
              "  <tbody>\n",
              "    <tr>\n",
              "      <th>0</th>\n",
              "      <td>549.0</td>\n",
              "      <td>22.117887</td>\n",
              "      <td>31.388207</td>\n",
              "      <td>0.0</td>\n",
              "      <td>7.8542</td>\n",
              "      <td>10.5</td>\n",
              "      <td>26.0</td>\n",
              "      <td>263.0000</td>\n",
              "    </tr>\n",
              "    <tr>\n",
              "      <th>1</th>\n",
              "      <td>342.0</td>\n",
              "      <td>48.395408</td>\n",
              "      <td>66.596998</td>\n",
              "      <td>0.0</td>\n",
              "      <td>12.4750</td>\n",
              "      <td>26.0</td>\n",
              "      <td>57.0</td>\n",
              "      <td>512.3292</td>\n",
              "    </tr>\n",
              "  </tbody>\n",
              "</table>\n",
              "</div>\n",
              "      <button class=\"colab-df-convert\" onclick=\"convertToInteractive('df-16540585-c13d-46c7-9f0b-97b9930fb8d5')\"\n",
              "              title=\"Convert this dataframe to an interactive table.\"\n",
              "              style=\"display:none;\">\n",
              "        \n",
              "  <svg xmlns=\"http://www.w3.org/2000/svg\" height=\"24px\"viewBox=\"0 0 24 24\"\n",
              "       width=\"24px\">\n",
              "    <path d=\"M0 0h24v24H0V0z\" fill=\"none\"/>\n",
              "    <path d=\"M18.56 5.44l.94 2.06.94-2.06 2.06-.94-2.06-.94-.94-2.06-.94 2.06-2.06.94zm-11 1L8.5 8.5l.94-2.06 2.06-.94-2.06-.94L8.5 2.5l-.94 2.06-2.06.94zm10 10l.94 2.06.94-2.06 2.06-.94-2.06-.94-.94-2.06-.94 2.06-2.06.94z\"/><path d=\"M17.41 7.96l-1.37-1.37c-.4-.4-.92-.59-1.43-.59-.52 0-1.04.2-1.43.59L10.3 9.45l-7.72 7.72c-.78.78-.78 2.05 0 2.83L4 21.41c.39.39.9.59 1.41.59.51 0 1.02-.2 1.41-.59l7.78-7.78 2.81-2.81c.8-.78.8-2.07 0-2.86zM5.41 20L4 18.59l7.72-7.72 1.47 1.35L5.41 20z\"/>\n",
              "  </svg>\n",
              "      </button>\n",
              "      \n",
              "  <style>\n",
              "    .colab-df-container {\n",
              "      display:flex;\n",
              "      flex-wrap:wrap;\n",
              "      gap: 12px;\n",
              "    }\n",
              "\n",
              "    .colab-df-convert {\n",
              "      background-color: #E8F0FE;\n",
              "      border: none;\n",
              "      border-radius: 50%;\n",
              "      cursor: pointer;\n",
              "      display: none;\n",
              "      fill: #1967D2;\n",
              "      height: 32px;\n",
              "      padding: 0 0 0 0;\n",
              "      width: 32px;\n",
              "    }\n",
              "\n",
              "    .colab-df-convert:hover {\n",
              "      background-color: #E2EBFA;\n",
              "      box-shadow: 0px 1px 2px rgba(60, 64, 67, 0.3), 0px 1px 3px 1px rgba(60, 64, 67, 0.15);\n",
              "      fill: #174EA6;\n",
              "    }\n",
              "\n",
              "    [theme=dark] .colab-df-convert {\n",
              "      background-color: #3B4455;\n",
              "      fill: #D2E3FC;\n",
              "    }\n",
              "\n",
              "    [theme=dark] .colab-df-convert:hover {\n",
              "      background-color: #434B5C;\n",
              "      box-shadow: 0px 1px 3px 1px rgba(0, 0, 0, 0.15);\n",
              "      filter: drop-shadow(0px 1px 2px rgba(0, 0, 0, 0.3));\n",
              "      fill: #FFFFFF;\n",
              "    }\n",
              "  </style>\n",
              "\n",
              "      <script>\n",
              "        const buttonEl =\n",
              "          document.querySelector('#df-16540585-c13d-46c7-9f0b-97b9930fb8d5 button.colab-df-convert');\n",
              "        buttonEl.style.display =\n",
              "          google.colab.kernel.accessAllowed ? 'block' : 'none';\n",
              "\n",
              "        async function convertToInteractive(key) {\n",
              "          const element = document.querySelector('#df-16540585-c13d-46c7-9f0b-97b9930fb8d5');\n",
              "          const dataTable =\n",
              "            await google.colab.kernel.invokeFunction('convertToInteractive',\n",
              "                                                     [key], {});\n",
              "          if (!dataTable) return;\n",
              "\n",
              "          const docLinkHtml = 'Like what you see? Visit the ' +\n",
              "            '<a target=\"_blank\" href=https://colab.research.google.com/notebooks/data_table.ipynb>data table notebook</a>'\n",
              "            + ' to learn more about interactive tables.';\n",
              "          element.innerHTML = '';\n",
              "          dataTable['output_type'] = 'display_data';\n",
              "          await google.colab.output.renderOutput(dataTable, element);\n",
              "          const docLink = document.createElement('div');\n",
              "          docLink.innerHTML = docLinkHtml;\n",
              "          element.appendChild(docLink);\n",
              "        }\n",
              "      </script>\n",
              "    </div>\n",
              "  </div>\n",
              "  "
            ]
          },
          "metadata": {},
          "execution_count": 14
        }
      ]
    },
    {
      "cell_type": "markdown",
      "source": [
        "## 2.4 Relationship between target varaible (\"Survived\", categorical) and categorical variable"
      ],
      "metadata": {
        "id": "rpuuMG29AqUS"
      }
    },
    {
      "cell_type": "code",
      "source": [
        "# we add \"Pclass\" to the cat_ls to investigate it also as a categorical variable\n",
        "cat_ls.append(\"Pclass\")\n",
        "print(cat_ls)"
      ],
      "metadata": {
        "colab": {
          "base_uri": "https://localhost:8080/"
        },
        "id": "YiVHEgoyEwf_",
        "outputId": "1261ad1c-35e4-48ab-d503-36eb97b0f88e"
      },
      "execution_count": null,
      "outputs": [
        {
          "output_type": "stream",
          "name": "stdout",
          "text": [
            "['Name', 'Sex', 'Ticket', 'Cabin', 'Embarked', 'Pclass']\n"
          ]
        }
      ]
    },
    {
      "cell_type": "markdown",
      "source": [
        "It indicates that there is a significant difference in the survival rates between males and females on the Titanic, with a much higher proportion of females (>70%) surviving compared to males (<20%)!"
      ],
      "metadata": {
        "id": "eXau0x2wL0cm"
      }
    },
    {
      "cell_type": "code",
      "source": [
        "for col in cat_ls:\n",
        "    if col != 'Survived':\n",
        "        # Calculate the percentage of Survived within each category in the column\n",
        "        perc_df = df_train.groupby([col, \"Survived\"]).size().reset_index(name=\"count\")\n",
        "        perc_df[\"percentage\"] = perc_df.groupby(col)[\"count\"].apply(lambda x: (x / x.sum()) * 100)\n",
        "\n",
        "        # Plot the percentage using a bar plot\n",
        "        plt.figure(figsize=(12,8))\n",
        "        sns.barplot(x=col, y=\"percentage\", hue=\"Survived\", data=perc_df)\n",
        "        plt.xlabel(col)\n",
        "        plt.ylabel(\"Percentage\")\n",
        "        plt.title(f\"Normalized Countplot of {col}\")\n",
        "        plt.show()\n"
      ],
      "metadata": {
        "colab": {
          "base_uri": "https://localhost:8080/"
        },
        "id": "GrIiBFiBNNqV",
        "outputId": "cfc35d73-1a2f-4aa6-f33c-70d13e50cc4a"
      },
      "execution_count": null,
      "outputs": [
        {
          "output_type": "display_data",
          "data": {
            "text/plain": [
              "<Figure size 864x576 with 1 Axes>"
            ],
            "image/png": "[encoded data removed]"
          },
          "metadata": {
            "needs_background": "light"
          }
        },
        {
          "output_type": "display_data",
          "data": {
            "text/plain": [
              "<Figure size 864x576 with 1 Axes>"
            ],
            "image/png": "[encoded data removed]"
          },
          "metadata": {
            "needs_background": "light"
          }
        },
        {
          "output_type": "display_data",
          "data": {
            "text/plain": [
              "<Figure size 864x576 with 1 Axes>"
            ],
            "image/png": "[encoded data removed]"
          },
          "metadata": {
            "needs_background": "light"
          }
        },
        {
          "output_type": "display_data",
          "data": {
            "text/plain": [
              "<Figure size 864x576 with 1 Axes>"
            ],
            "image/png": "[encoded data removed]"
          },
          "metadata": {
            "needs_background": "light"
          }
        },
        {
          "output_type": "display_data",
          "data": {
            "text/plain": [
              "<Figure size 864x576 with 1 Axes>"
            ],
            "image/png": "[encoded data removed]"
          },
          "metadata": {
            "needs_background": "light"
          }
        },
        {
          "output_type": "display_data",
          "data": {
            "text/plain": [
              "<Figure size 864x576 with 1 Axes>"
            ],
            "image/png": "[encoded data removed]"
          },
          "metadata": {
            "needs_background": "light"
          }
        }
      ]
    },
    {
      "cell_type": "markdown",
      "source": [
        "The analysis of categorical variables in the Titanic dataset reveals some interesting patterns:\n",
        "1.\tSurvival rates between males and females differ significantly, with a much higher proportion of females (over 70%) surviving compared to males (less than 20%).\n",
        "2. There is a strong relationship between Pclass and survival rate. More than 60% of passengers in class 1 survived, while just above 50% of those in class 2 survived. On the other hand, more than 70% of passengers in class 3 died, indicating that the class of the passenger played a significant role in their likelihood of survival.\n",
        "3.\tPort of Embarkation is another variable that is associated with survival, with passengers embarking at Cherbourg having the highest survival rate compared to the other two ports. On the other hand, passengers who embarked from Southampton had the lowest survival rate.\n",
        "4.\tName, Cabin, and Ticket are categorical variables that do not provide much useful information in their current form. However, after feature engineering, they may become more useful in predicting survival.\n",
        "\n",
        "To quantify these observations (1-3):"
      ],
      "metadata": {
        "id": "wG4zYnipOP2_"
      }
    },
    {
      "cell_type": "code",
      "source": [
        "# update categorical list by keeping varaibles only in steps 1-3\n",
        "cat_ls=['Survived', 'Sex', 'Embarked', 'Pclass']\n",
        "\n",
        "# Create an empty dictionary to store the results\n",
        "results_dict = {}\n",
        "\n",
        "# Loop through each categorical variable\n",
        "for col in cat_ls:\n",
        "    if col != 'Survived':\n",
        "        # Calculate the percentage of Survived within each category in the column\n",
        "        perc_df = df_train.groupby([col, \"Survived\"]).size().reset_index(name=\"count\")\n",
        "        perc_df[\"percentage\"] = perc_df.groupby(col)[\"count\"].apply(lambda x: (x / x.sum()) * 100)\n",
        "\n",
        "        # Store the results in the dictionary\n",
        "        results_dict[col] = perc_df.pivot(index='Survived', columns=col, values='percentage')\n",
        "\n",
        "# Create a DataFrame from the dictionary\n",
        "results_df = pd.concat(results_dict, axis=1)\n",
        "\n",
        "# Print the DataFrame\n",
        "print(results_df)"
      ],
      "metadata": {
        "colab": {
          "base_uri": "https://localhost:8080/"
        },
        "id": "iTUfa0yOUqSL",
        "outputId": "9441da54-fbbc-4244-eb14-b4947318e1fd"
      },
      "execution_count": null,
      "outputs": [
        {
          "output_type": "stream",
          "name": "stdout",
          "text": [
            "                Sex              Embarked                           Pclass  \\\n",
            "             female       male          C          Q          S          1   \n",
            "Survived                                                                     \n",
            "0         25.796178  81.109185  44.642857  61.038961  66.304348  37.037037   \n",
            "1         74.203822  18.890815  55.357143  38.961039  33.695652  62.962963   \n",
            "\n",
            "                                \n",
            "                  2          3  \n",
            "Survived                        \n",
            "0         52.717391  75.763747  \n",
            "1         47.282609  24.236253  \n"
          ]
        }
      ]
    },
    {
      "cell_type": "markdown",
      "source": [
        "# **3. Data Cleaning**"
      ],
      "metadata": {
        "id": "f6o2O2pIXhBH"
      }
    },
    {
      "cell_type": "markdown",
      "source": [
        "## 3.1 Missing Values\n",
        "1. Check for missing values of DataFrame\n",
        "2. Drop columns with more than 90% missing values\n",
        "3. Investigate columns containing missing values one-by-one"
      ],
      "metadata": {
        "id": "b9ZDSuerXs5r"
      }
    },
    {
      "cell_type": "code",
      "source": [
        "# percentage of missing values in each column (Train)\n",
        "df_train.isnull().sum()*(100/len(df_train))"
      ],
      "metadata": {
        "colab": {
          "base_uri": "https://localhost:8080/"
        },
        "id": "24jfRSlTX3M8",
        "outputId": "06593580-2f2d-4494-db0f-99fc7f6c2a72"
      },
      "execution_count": null,
      "outputs": [
        {
          "output_type": "execute_result",
          "data": {
            "text/plain": [
              "PassengerId     0.000000\n",
              "Survived        0.000000\n",
              "Pclass          0.000000\n",
              "Name            0.000000\n",
              "Sex             0.000000\n",
              "Age            19.865320\n",
              "SibSp           0.000000\n",
              "Parch           0.000000\n",
              "Ticket          0.000000\n",
              "Fare            0.000000\n",
              "Cabin          77.104377\n",
              "Embarked        0.224467\n",
              "train_test      0.000000\n",
              "dtype: float64"
            ]
          },
          "metadata": {},
          "execution_count": 18
        }
      ]
    },
    {
      "cell_type": "code",
      "source": [
        "# percentage of missing values in each column (All)\n",
        "df_all.isnull().sum()*(100/len(df_all))"
      ],
      "metadata": {
        "colab": {
          "base_uri": "https://localhost:8080/"
        },
        "id": "4CCDuyd4N_D5",
        "outputId": "e00ef9c6-1fcb-461d-82ce-e72010b94425"
      },
      "execution_count": null,
      "outputs": [
        {
          "output_type": "execute_result",
          "data": {
            "text/plain": [
              "PassengerId     0.000000\n",
              "Survived       31.932773\n",
              "Pclass          0.000000\n",
              "Name            0.000000\n",
              "Sex             0.000000\n",
              "Age            20.091673\n",
              "SibSp           0.000000\n",
              "Parch           0.000000\n",
              "Ticket          0.000000\n",
              "Fare            0.076394\n",
              "Cabin          77.463713\n",
              "Embarked        0.152788\n",
              "train_test      0.000000\n",
              "dtype: float64"
            ]
          },
          "metadata": {},
          "execution_count": 19
        }
      ]
    },
    {
      "cell_type": "markdown",
      "source": [
        "### 3.1.2 Age\n",
        "As we saw in sec 2.2.1, Age is almost normally distributed. Thus, it is generally safe to use either the mean or the median to fill in missing values. However, if the data has a few outliers or extreme values, then the median may be a better choice, as it is less sensitive to extreme values. On the other hand, if the data is relatively symmetric and does not have many outliers, the mean may be a more appropriate choice."
      ],
      "metadata": {
        "id": "_Pk7zjKOZbz6"
      }
    },
    {
      "cell_type": "code",
      "source": [
        "# check the distribution of Age\n",
        "\n",
        "# Create subplots\n",
        "fig, axes = plt.subplots(1, 2, figsize=(15, 5))\n",
        "\n",
        "# Plot histogram on the first subplot\n",
        "sns.histplot(df_train[\"Age\"], bins=50, ax=axes[0])\n",
        "axes[0].set_xlabel(\"Age\")\n",
        "axes[0].set_ylabel(\"Count\")\n",
        "axes[0].set_title(\"Distribution of Age\")\n",
        "\n",
        "# Plot boxplot on the second subplot\n",
        "sns.boxplot(x=df_train[\"Age\"], ax=axes[1])\n",
        "axes[1].set_xlabel(\"Age\")\n",
        "axes[1].set_title(\"Boxplot of Age\")\n",
        "\n",
        "plt.show()"
      ],
      "metadata": {
        "colab": {
          "base_uri": "https://localhost:8080/",
          "height": 350
        },
        "id": "ZHhLaFi-aieZ",
        "outputId": "c2f0b62b-1dcf-448f-d213-a390858d37f3"
      },
      "execution_count": null,
      "outputs": [
        {
          "output_type": "display_data",
          "data": {
            "text/plain": [
              "<Figure size 1080x360 with 2 Axes>"
            ],
            "image/png": "[encoded data removed]"
          },
          "metadata": {
            "needs_background": "light"
          }
        }
      ]
    },
    {
      "cell_type": "markdown",
      "source": [
        "So, we based on this observation we use median to fill in missing values in Age"
      ],
      "metadata": {
        "id": "8caUvrwUa42b"
      }
    },
    {
      "cell_type": "code",
      "source": [
        "# Impute Nulll in 'Age' column of All with median of Age column of Train\n",
        "## df_train[\"Age\"].fillna(df_train[\"Age\"].median(), inplace=True)\n",
        "df_all[\"Age\"].fillna(df_train[\"Age\"].median(), inplace=True)"
      ],
      "metadata": {
        "id": "R8_qzuKAa6i9"
      },
      "execution_count": null,
      "outputs": []
    },
    {
      "cell_type": "markdown",
      "source": [
        "### 3.1.3 Cabin\n",
        "The cabin column must be discarded since:\n",
        "1. There is an ovewhelming number of missing values (more than 77%)\n",
        "2. It contains a large number of unique values (sec 2.4 Figure 4)"
      ],
      "metadata": {
        "id": "FvSOQEgAdwlH"
      }
    },
    {
      "cell_type": "code",
      "source": [
        "## df_train.drop(\"Cabin\", axis=1, inplace=True)\n",
        "df_all.drop(\"Cabin\", axis=1, inplace=True)"
      ],
      "metadata": {
        "id": "KJpDmKm9edxx"
      },
      "execution_count": null,
      "outputs": []
    },
    {
      "cell_type": "markdown",
      "source": [
        "### 3.1.4 Embarked\n",
        "\n",
        "The Embarked column has only 2 missing values out of 1309 rows, so it is not a big problem. Some possible ways to deal with it are:\n",
        "\n",
        "1. Drop the rows with missing values, since they are very few and will not affect the overall analysis much2.\n",
        "2. Impute nulls values with the most frequent value, which is ‘S’ for Southampton3.\n",
        "\n",
        "We take the second approach here:"
      ],
      "metadata": {
        "id": "e3urw2KMe_YK"
      }
    },
    {
      "cell_type": "code",
      "source": [
        "# Find the most frequent value in \"Embarked\" of Train\n",
        "most_freq_emb = df_train[\"Embarked\"].mode()[0]    # [0] is used to select the first/only value in the resulting Series\n",
        "# Impute nulls with the most frequent value in All\n",
        "df_all[\"Embarked\"].fillna(most_freq_emb, inplace=True)"
      ],
      "metadata": {
        "id": "eKjqCdc6h_VS"
      },
      "execution_count": null,
      "outputs": []
    },
    {
      "cell_type": "markdown",
      "source": [
        "### 3.1.5 Fare\n",
        "\n",
        "As seen in sec. 2.3, Fare has many outliers, hence, its median is used for imputing the missing values."
      ],
      "metadata": {
        "id": "SRcp3O6ggj0v"
      }
    },
    {
      "cell_type": "code",
      "source": [
        "# Impute Nulll in 'Fare' column of All with median of 'Fare' column of Train\n",
        "df_all[\"Fare\"].fillna(df_train[\"Fare\"].median(), inplace=True)"
      ],
      "metadata": {
        "id": "ayxnWpYThQoU"
      },
      "execution_count": null,
      "outputs": []
    },
    {
      "cell_type": "markdown",
      "source": [
        "## 3.2 Sanity Check\n",
        "Now, we should perform a sanity check on the data frame to confirm whether all missing values have been appropriately handled."
      ],
      "metadata": {
        "id": "PjN5lxRvjaF3"
      }
    },
    {
      "cell_type": "code",
      "source": [
        "# Calculate the percentage of missing values in each column\n",
        "df_all.isnull().sum()*(100/len(df_all))"
      ],
      "metadata": {
        "colab": {
          "base_uri": "https://localhost:8080/"
        },
        "id": "ONrAE1KOjhvJ",
        "outputId": "07921dca-87bc-422b-9fd5-106887c705e0"
      },
      "execution_count": null,
      "outputs": [
        {
          "output_type": "execute_result",
          "data": {
            "text/plain": [
              "PassengerId     0.000000\n",
              "Survived       31.932773\n",
              "Pclass          0.000000\n",
              "Name            0.000000\n",
              "Sex             0.000000\n",
              "Age             0.000000\n",
              "SibSp           0.000000\n",
              "Parch           0.000000\n",
              "Ticket          0.000000\n",
              "Fare            0.000000\n",
              "Embarked        0.000000\n",
              "train_test      0.000000\n",
              "dtype: float64"
            ]
          },
          "metadata": {},
          "execution_count": 25
        }
      ]
    },
    {
      "cell_type": "markdown",
      "source": [
        "# **4. Feature Engineering & Data pre-Processing for ML**\n",
        "\n"
      ],
      "metadata": {
        "id": "MbPeEgv0V6-R"
      }
    },
    {
      "cell_type": "markdown",
      "source": [
        "Feature Engineering is the process of creating new features or modifying existing features to improve the performance of the model. Data preprocessing is the process of preparing data for analysis or machine learning by cleaning, transforming, and normalizing the data. This involves dealing with outliers, selecting relevant features, converting categorical variables into numerical ones, and scaling or normalizing the data. The goal of data preprocessing is to ensure that the data is in a suitable form for modeling and to increase the accuracy and effectiveness of the analysis or machine learning algorithms.\n",
        "\n",
        "In the case of the Titanic dataset, we can perform the following feature engineering steps:\n",
        "1.\t**Ticket** - The Ticket variable contains information about the ticket number of each passenger. We can extract the *ticket prefix, which may be an indication of ticket type* and could impact survival rates.\n",
        "2. **Name** - The Name variable contains information about the title of each passenger. We can extract the *title* from each name (e.g., Mr, Mrs, Miss, etc.) and create a new variable called Title. This may be an indication of *social status* and could impact survival rates.\n",
        "3. Data **Transformation** towards the *normal distribution*\n",
        "4. **Encoding** (one-hot-encoding)\n",
        "5. **Standard Scaling**\n",
        "6. **Train-Test Split**"
      ],
      "metadata": {
        "id": "9JEzmH87BowH"
      }
    },
    {
      "cell_type": "markdown",
      "source": [
        "## 4.1 Ticket"
      ],
      "metadata": {
        "id": "cxdl3XhuW4HK"
      }
    },
    {
      "cell_type": "code",
      "source": [
        "# print the first 30 unique values of the Ticket column\n",
        "df_train[\"Ticket\"].unique()[:30]"
      ],
      "metadata": {
        "colab": {
          "base_uri": "https://localhost:8080/"
        },
        "id": "vyJNXsYY0tE-",
        "outputId": "994a7ced-cf9f-49b5-9203-97585a644fe2"
      },
      "execution_count": null,
      "outputs": [
        {
          "output_type": "execute_result",
          "data": {
            "text/plain": [
              "array(['A/5 21171', 'PC 17599', 'STON/O2. 3101282', '113803', '373450',\n",
              "       '330877', '17463', '349909', '347742', '237736', 'PP 9549',\n",
              "       '113783', 'A/5. 2151', '347082', '350406', '248706', '382652',\n",
              "       '244373', '345763', '2649', '239865', '248698', '330923', '113788',\n",
              "       '347077', '2631', '19950', '330959', '349216', 'PC 17601'],\n",
              "      dtype=object)"
            ]
          },
          "metadata": {},
          "execution_count": 26
        }
      ]
    },
    {
      "cell_type": "markdown",
      "source": [
        "Ticket numbers are combinations of unknown length digits at the end of Ticket variables separated from the rest of content by a space."
      ],
      "metadata": {
        "id": "J6D0uszP770Z"
      }
    },
    {
      "cell_type": "code",
      "source": [
        "# extract ticket numbers from Ticket column\n",
        "TicketNumber = df_train['Ticket'].apply(lambda x: x.split()[-1]) # split the string x using whitespace as the\n",
        "                                                                 # delimiter and then return the last element of the resulting list. \n",
        "df_train['TicketNumber'] = TicketNumber"
      ],
      "metadata": {
        "id": "XVRi_oE868SC"
      },
      "execution_count": null,
      "outputs": []
    },
    {
      "cell_type": "code",
      "source": [
        "df_train['TicketNumber'].describe()"
      ],
      "metadata": {
        "colab": {
          "base_uri": "https://localhost:8080/"
        },
        "id": "-FIzhaUx-G3o",
        "outputId": "a8648525-6ece-41bf-d644-2abfb942bd9f"
      },
      "execution_count": null,
      "outputs": [
        {
          "output_type": "execute_result",
          "data": {
            "text/plain": [
              "count      891\n",
              "unique     679\n",
              "top       2343\n",
              "freq         7\n",
              "Name: TicketNumber, dtype: object"
            ]
          },
          "metadata": {},
          "execution_count": 28
        }
      ]
    },
    {
      "cell_type": "markdown",
      "source": [
        "top: the most common value in the column, which is '2343'. This ticket number appears 7 times in the dataset, which is the highest frequency among all ticket numbers. freq: the frequency of the most common value in the column, which is 7.\n",
        "\n",
        "Since the extracted ticket numbers don't have any numerical meaning or order, and they are just identifiers, then it's better to treat them as categorical variables.\n",
        "\n",
        "This new column (TicketNumber) has \"**curse of dimensionality**\" problem meaning during encoding (one-hot encoding etc.) it will result into 679 new columns or numerical values. Hence, this variable is useless and we dont need to consider it further."
      ],
      "metadata": {
        "id": "es-o3O8N-pIE"
      }
    },
    {
      "cell_type": "code",
      "source": [
        "# drop the \"Ticket\" column from the \"df_train\" DataFrame\n",
        "df_all.drop(\"Ticket\", axis=1, inplace=True)"
      ],
      "metadata": {
        "id": "fT3mPWyoElEU"
      },
      "execution_count": null,
      "outputs": []
    },
    {
      "cell_type": "markdown",
      "source": [
        "## 4.2 Name"
      ],
      "metadata": {
        "id": "Y8cv9U84E7Ak"
      }
    },
    {
      "cell_type": "code",
      "source": [
        "# print the first 20 unique values of the Name column\n",
        "df_train['Name'].unique()[:20]"
      ],
      "metadata": {
        "colab": {
          "base_uri": "https://localhost:8080/"
        },
        "id": "l8Wjl5Z7FDwn",
        "outputId": "ba29ca89-b4c2-4ace-cbaa-ced6f6a8d0e2"
      },
      "execution_count": null,
      "outputs": [
        {
          "output_type": "execute_result",
          "data": {
            "text/plain": [
              "array(['Braund, Mr. Owen Harris',\n",
              "       'Cumings, Mrs. John Bradley (Florence Briggs Thayer)',\n",
              "       'Heikkinen, Miss. Laina',\n",
              "       'Futrelle, Mrs. Jacques Heath (Lily May Peel)',\n",
              "       'Allen, Mr. William Henry', 'Moran, Mr. James',\n",
              "       'McCarthy, Mr. Timothy J', 'Palsson, Master. Gosta Leonard',\n",
              "       'Johnson, Mrs. Oscar W (Elisabeth Vilhelmina Berg)',\n",
              "       'Nasser, Mrs. Nicholas (Adele Achem)',\n",
              "       'Sandstrom, Miss. Marguerite Rut', 'Bonnell, Miss. Elizabeth',\n",
              "       'Saundercock, Mr. William Henry', 'Andersson, Mr. Anders Johan',\n",
              "       'Vestrom, Miss. Hulda Amanda Adolfina',\n",
              "       'Hewlett, Mrs. (Mary D Kingcome) ', 'Rice, Master. Eugene',\n",
              "       'Williams, Mr. Charles Eugene',\n",
              "       'Vander Planke, Mrs. Julius (Emelia Maria Vandemoortele)',\n",
              "       'Masselmani, Mrs. Fatima'], dtype=object)"
            ]
          },
          "metadata": {},
          "execution_count": 30
        }
      ]
    },
    {
      "cell_type": "code",
      "source": [
        "# extract Titles from Name column and save them in Title column in All\n",
        "df_all['Title'] =df_all.Name.apply(lambda x: x.split(',')[1].split('.')[0].strip())"
      ],
      "metadata": {
        "id": "Rq9k88_FHKRy"
      },
      "execution_count": null,
      "outputs": []
    },
    {
      "cell_type": "markdown",
      "source": [
        "The lambda function splits the 'Name' string using the comma ',' as a delimiter, and selects the second part (i.e., index 1) which contains the title and the first name. It then splits this string using the dot '.' as a delimiter, and selects the first part (i.e., index 0) which contains the title only. Finally, it removes any leading or trailing spaces from the title using the strip() method."
      ],
      "metadata": {
        "id": "1D8fvc_fHmAz"
      }
    },
    {
      "cell_type": "code",
      "source": [
        "# drop the \"Name\" column from the \"df_all\" DataFrame\n",
        "df_all.drop(\"Name\", axis=1, inplace=True)"
      ],
      "metadata": {
        "id": "W7CqCmc7H0wk"
      },
      "execution_count": null,
      "outputs": []
    },
    {
      "cell_type": "code",
      "source": [
        "df_all[\"Title\"].unique()"
      ],
      "metadata": {
        "colab": {
          "base_uri": "https://localhost:8080/"
        },
        "id": "RkuBakvAH-l7",
        "outputId": "4e176a6a-3323-44e6-d1db-eda5a9721102"
      },
      "execution_count": null,
      "outputs": [
        {
          "output_type": "execute_result",
          "data": {
            "text/plain": [
              "array(['Mr', 'Mrs', 'Miss', 'Master', 'Don', 'Rev', 'Dr', 'Mme', 'Ms',\n",
              "       'Major', 'Lady', 'Sir', 'Mlle', 'Col', 'Capt', 'the Countess',\n",
              "       'Jonkheer', 'Dona'], dtype=object)"
            ]
          },
          "metadata": {},
          "execution_count": 33
        }
      ]
    },
    {
      "cell_type": "code",
      "source": [
        "# Group the data by title and calculate the percentage of passengers who survived for each title\n",
        "# The resulting values are sorted in descending order\n",
        "## df_train.groupby(\"Title\").Survived.apply(lambda x: (x == \"Yes\").sum() / x.count() * 100).sort_values(ascending=False)\n",
        "df_all.groupby(\"Title\").Survived.apply(lambda x: (x == 1).sum() / x.count() * 100).sort_values(ascending=False)"
      ],
      "metadata": {
        "colab": {
          "base_uri": "https://localhost:8080/"
        },
        "id": "MaZVGcY0Ieun",
        "outputId": "0f4e6cbc-ec2d-4350-c2f3-8be5af509964"
      },
      "execution_count": null,
      "outputs": [
        {
          "output_type": "stream",
          "name": "stderr",
          "text": [
            "<ipython-input-34-aa79f036e812>:4: RuntimeWarning: invalid value encountered in long_scalars\n",
            "  df_all.groupby(\"Title\").Survived.apply(lambda x: (x == 1).sum() / x.count() * 100).sort_values(ascending=False)\n"
          ]
        },
        {
          "output_type": "execute_result",
          "data": {
            "text/plain": [
              "Title\n",
              "the Countess    100.000000\n",
              "Mlle            100.000000\n",
              "Sir             100.000000\n",
              "Ms              100.000000\n",
              "Lady            100.000000\n",
              "Mme             100.000000\n",
              "Mrs              79.200000\n",
              "Miss             69.780220\n",
              "Master           57.500000\n",
              "Col              50.000000\n",
              "Major            50.000000\n",
              "Dr               42.857143\n",
              "Mr               15.667311\n",
              "Jonkheer          0.000000\n",
              "Rev               0.000000\n",
              "Don               0.000000\n",
              "Capt              0.000000\n",
              "Dona                   NaN\n",
              "Name: Survived, dtype: float64"
            ]
          },
          "metadata": {},
          "execution_count": 34
        }
      ]
    },
    {
      "cell_type": "markdown",
      "source": [
        " It is evident that females titles, such as The Countess, Mlle, Sir, Ms, Lady, and Mme, all have a 100% survival rate. Among the male titles, only those of Col, Major, and Dr have a 50% or more survival rate. The title Mr, which is the most common among male passengers, has the lowest survival rate of only 15.67%. Finally, it is noteworthy that Jonkheer, Rev, Don, and Capt have a 0% survival rate."
      ],
      "metadata": {
        "id": "UT54qyhgLGYl"
      }
    },
    {
      "cell_type": "markdown",
      "source": [
        "## 4.3 Data Transformation\n",
        "\n",
        "Data transformation towards a normal distribution is often performed before machine learning modeling because many algorithms assume that input features follow a normal or Gaussian distribution. There are some important methods to transform a non-normally distributed variable into a normally distributed one, including:\n",
        "1.\tLog transformation\n",
        "2.\tBox-Cox transformation\n",
        "3.\tQuantile transformation\n",
        "\n",
        "The skewness and kurtosis measures of the original distribution indicate that it is highly skewed and has a heavy tail. A normal distribution has a **kurtosis of 3**. The normal distribution has a **skewness of 0**."
      ],
      "metadata": {
        "id": "Zp6zSTFITgTJ"
      }
    },
    {
      "cell_type": "markdown",
      "source": [
        "### 4.3.1 **Transformation** of Fare"
      ],
      "metadata": {
        "id": "jyNXPuGY7N8a"
      }
    },
    {
      "cell_type": "code",
      "source": [
        "import seaborn as sns\n",
        "from scipy.stats import boxcox\n",
        "from sklearn.preprocessing import QuantileTransformer\n",
        "\n",
        "# log transformation\n",
        "df_train['Fare_log'] = np.log(df_train['Fare']+1)\n",
        "\n",
        "# box-cox transformation\n",
        "df_train['Fare_boxcox'], _ = boxcox(df_train['Fare']+1)\n",
        "\n",
        "# quantile transformation\n",
        "transformer = QuantileTransformer(n_quantiles=100, random_state=0)\n",
        "df_train['Fare_quantile'] = transformer.fit_transform(df_train['Fare'].values.reshape(-1, 1))\n",
        "\n",
        "# plot the distributions of the original data and transformed data\n",
        "fig, axs = plt.subplots(2, 2, figsize=(15, 10))\n",
        "sns.histplot(df_train['Fare'], ax=axs[0, 0])\n",
        "axs[0, 0].set_title('Original Fare Distribution')\n",
        "sns.histplot(df_train['Fare_log'], ax=axs[0, 1])\n",
        "axs[0, 1].set_title('Log Transformed Fare Distribution')\n",
        "sns.histplot(df_train['Fare_boxcox'], ax=axs[1, 0])\n",
        "axs[1, 0].set_title('Box-Cox Transformed Fare Distribution')\n",
        "sns.histplot(df_train['Fare_quantile'], ax=axs[1, 1])\n",
        "axs[1, 1].set_title('Quantile Transformed Fare Distribution')\n",
        "\n",
        "# print the skewness and kurtosis of each transformation\n",
        "print('Original Fare Distribution: Skewness={}, Kurtosis={}'.format(df_train['Fare'].skew(), df_train['Fare'].kurt()))\n",
        "print('Log Transformed Fare Distribution: Skewness={}, Kurtosis={}'.format(df_train['Fare_log'].skew(), df_train['Fare_log'].kurt()))\n",
        "print('Box-Cox Transformed Fare Distribution: Skewness={}, Kurtosis={}'.format(df_train['Fare_boxcox'].skew(), df_train['Fare_boxcox'].kurt()))\n",
        "print('Quantile Transformed Fare Distribution: Skewness={}, Kurtosis={}'.format(df_train['Fare_quantile'].skew(), df_train['Fare_quantile'].kurt()))\n"
      ],
      "metadata": {
        "colab": {
          "base_uri": "https://localhost:8080/",
          "height": 691
        },
        "id": "BlePsa94jXod",
        "outputId": "6eaa9a4c-e159-430d-bfe4-caf57bed2f28"
      },
      "execution_count": null,
      "outputs": [
        {
          "output_type": "stream",
          "name": "stdout",
          "text": [
            "Original Fare Distribution: Skewness=4.787316519674893, Kurtosis=33.39814088089868\n",
            "Log Transformed Fare Distribution: Skewness=0.3949280095189306, Kurtosis=0.976142106683104\n",
            "Box-Cox Transformed Fare Distribution: Skewness=-0.0403291827587629, Kurtosis=1.5322771036478229\n",
            "Quantile Transformed Fare Distribution: Skewness=0.0007562734885324992, Kurtosis=-1.203150088114603\n"
          ]
        },
        {
          "output_type": "display_data",
          "data": {
            "text/plain": [
              "<Figure size 1080x720 with 4 Axes>"
            ],
            "image/png": "[encoded data removed]"
          },
          "metadata": {
            "needs_background": "light"
          }
        }
      ]
    },
    {
      "cell_type": "markdown",
      "source": [
        "Based on our output, the Box-Cox transformed distribution seems to be the best choice among the three, since its skewness is the closest to 0 (-0.04) and its kurtosis is closer to 3 (1.53) compared to the other two transformations.\n",
        "\n",
        "Therfore, we use the **Box-Cox** trnasformation on combined dataset:"
      ],
      "metadata": {
        "id": "tMJglGNu8S1b"
      }
    },
    {
      "cell_type": "code",
      "source": [
        "# box-cox transformation\n",
        "df_all['Fare_boxcox'], _ = boxcox(df_all['Fare']+1) # +1 handles any potential zero values in the 'Fare' column"
      ],
      "metadata": {
        "id": "0UgY_OIp8qET"
      },
      "execution_count": null,
      "outputs": []
    },
    {
      "cell_type": "code",
      "source": [
        "df_all['Fare_boxcox']"
      ],
      "metadata": {
        "colab": {
          "base_uri": "https://localhost:8080/"
        },
        "id": "lPjrGXIDFHhA",
        "outputId": "7bf71353-1496-4f22-f157-12bd6066fb97"
      },
      "execution_count": null,
      "outputs": [
        {
          "output_type": "execute_result",
          "data": {
            "text/plain": [
              "0      1.824485\n",
              "1      3.211250\n",
              "2      1.882515\n",
              "3      3.049783\n",
              "4      1.892711\n",
              "         ...   \n",
              "413    1.892711\n",
              "414    3.433330\n",
              "415    1.824485\n",
              "416    1.892711\n",
              "417    2.542584\n",
              "Name: Fare_boxcox, Length: 1309, dtype: float64"
            ]
          },
          "metadata": {},
          "execution_count": 37
        }
      ]
    },
    {
      "cell_type": "markdown",
      "source": [
        "## **4.4 Encoding**\n",
        "\n",
        "**Categorical** variables in our pre-processes and engineered data frame (df_all):\n",
        "\n",
        "**'Pclass', 'Sex', ‘SibSp’, 'Parch', 'Embarked', 'train_test', 'Title'**\n",
        "\n",
        "And continues (and normally distributed) **numerical** variables are:\n",
        "\n",
        "**'Age', and 'Fare_boxcox'**\n",
        "\n",
        "We perform encoding (one-hot-encoding here) using pd.get_dummies() or another encoding method, which creates a new DataFrame all_dummies. This new DataFrame will contain the **encoded non-numeric categorical** variables, **numeric categorical variables**, and **continuous numerical** variables.\n",
        "\n",
        "*  **'Pclass'** feature is an ordinal categorical variable representing the ticket class. The safest option for handling the 'Pclass' feature in the Titanic dataset would be to one-hot encode it, as this approach can work well with most machine learning algorithms. So, we first convert it to a string before hot-hot-encoding.\n",
        "* 'Parch' is a discrete numerical variable with values ranging from 0 to a small positive integer. The safe option for the 'Parch' feature in the Titanic dataset would be to use the variable as-is without scaling or encoding it, especially if you are using tree-based algorithms like decision trees and random forests."
      ],
      "metadata": {
        "id": "wSGZWGQoLEeH"
      }
    },
    {
      "cell_type": "code",
      "source": [
        "# Convert the Pclass feature to a string data type to treat it as a categorical variable\n",
        "df_all.Pclass = df_all.Pclass.astype(str)\n",
        "\n",
        "all_dummies = pd.get_dummies(df_all[['Age','Fare_boxcox', 'Pclass', 'Sex', 'SibSp', 'Parch', 'Embarked', 'train_test', 'Title']])"
      ],
      "metadata": {
        "id": "AzAa5fFGMNgA"
      },
      "execution_count": null,
      "outputs": []
    },
    {
      "cell_type": "code",
      "source": [
        "all_dummies.columns"
      ],
      "metadata": {
        "colab": {
          "base_uri": "https://localhost:8080/"
        },
        "id": "t4OpqjTx8YBt",
        "outputId": "fe2b1117-fa6a-4c26-ea13-d473216a9761"
      },
      "execution_count": null,
      "outputs": [
        {
          "output_type": "execute_result",
          "data": {
            "text/plain": [
              "Index(['Age', 'Fare_boxcox', 'SibSp', 'Parch', 'train_test', 'Pclass_1',\n",
              "       'Pclass_2', 'Pclass_3', 'Sex_female', 'Sex_male', 'Embarked_C',\n",
              "       'Embarked_Q', 'Embarked_S', 'Title_Capt', 'Title_Col', 'Title_Don',\n",
              "       'Title_Dona', 'Title_Dr', 'Title_Jonkheer', 'Title_Lady', 'Title_Major',\n",
              "       'Title_Master', 'Title_Miss', 'Title_Mlle', 'Title_Mme', 'Title_Mr',\n",
              "       'Title_Mrs', 'Title_Ms', 'Title_Rev', 'Title_Sir',\n",
              "       'Title_the Countess'],\n",
              "      dtype='object')"
            ]
          },
          "metadata": {},
          "execution_count": 39
        }
      ]
    },
    {
      "cell_type": "markdown",
      "source": [
        "## 4.5 **Standard Scaling**\n",
        "Standard scaling is a preprocessing step in machine learning that aims to standardize the features in the training and test data so that they have a **mean of 0** and a **standard deviation of 1**. It is important because some machine learning algorithms, especially those based on distance metrics (e.g., k-nearest neighbors, support vector machines) or gradient descent (e.g., logistic regression, neural networks), are sensitive to the scale of the input features. By **standardizing** the data, these algorithms can perform better and converge faster during training.\n",
        "* if you first transform your continuous variable into a normal distribution and then apply standard scaling, your variable will be transformed into a **standard normal distribution**. \n",
        "* standard scaling is usually applied to continuous variables and **not to** label **encoded** or one-hot encoded categorical variables\n",
        "\n",
        "In our case, we apply Standard Scaling to:\n",
        "\n",
        "'Age', 'Fare_boxcox', 'SibSp', 'Parch'"
      ],
      "metadata": {
        "id": "7FA7HAkD9Gdy"
      }
    },
    {
      "cell_type": "code",
      "source": [
        "from sklearn.preprocessing import StandardScaler\n",
        "\n",
        "# Instantiate the StandardScaler\n",
        "scaler = StandardScaler()\n",
        "\n",
        "# List of features to scale\n",
        "features_to_scale = ['Age', 'Fare_boxcox', 'SibSp', 'Parch']\n",
        "\n",
        "# Create a copy of the all_dummies DataFrame to apply scaling without modifying the original\n",
        "all_dummies_scaled = all_dummies.copy()\n",
        "\n",
        "# Fit the scaler to the data and transform the selected features\n",
        "all_dummies_scaled[features_to_scale] = scaler.fit_transform(all_dummies_scaled[features_to_scale])"
      ],
      "metadata": {
        "id": "IPSAhgoX_Mhv"
      },
      "execution_count": null,
      "outputs": []
    },
    {
      "cell_type": "markdown",
      "source": [
        "## 4.6 Train-Test Split\n",
        "\n",
        "We split encoded data into train and test sets for both scaled and unsclaed groups"
      ],
      "metadata": {
        "id": "hoFo2CX_XFiE"
      }
    },
    {
      "cell_type": "code",
      "source": [
        "# Split preprocessed unscaled data ('all_dummies) into train (1) and test (0) sets, and remove 'train_test' column\n",
        "X_train = all_dummies[all_dummies.train_test == 1].drop(['train_test'], axis =1) # Matrix\n",
        "X_test = all_dummies[all_dummies.train_test == 0].drop(['train_test'], axis =1) # Matric\n",
        "\n",
        "# Split preprocessed scaled data ('all_dummies_scaled) into train (1) and test (0) sets, and remove 'train_test' column\n",
        "X_train_scaled = all_dummies_scaled[all_dummies_scaled.train_test == 1].drop(['train_test'], axis =1) # Matrix\n",
        "X_test_scaled = all_dummies_scaled[all_dummies_scaled.train_test == 0].drop(['train_test'], axis =1) # Matric\n",
        "\n",
        "#  Target variable for training: Get 'Survived' column for training set from 'df_all'\n",
        "y_train = df_all[df_all.train_test==1].Survived # Vector"
      ],
      "metadata": {
        "id": "OlOdIzcqHkOO"
      },
      "execution_count": null,
      "outputs": []
    },
    {
      "cell_type": "markdown",
      "source": [
        "# **5.** **Machine Learning**\n",
        "\n",
        "1. **Model Building (Baseline Validation Performance)**\n",
        "2. **Model Tuning ( hyperparameter tuning)**\n",
        "3. **Ensemble Learning**\n",
        "4. **Predictions** "
      ],
      "metadata": {
        "id": "dVB6hOsnDCTc"
      }
    },
    {
      "cell_type": "markdown",
      "source": [
        "## **5.1 Model Building (Baseline Validation Performance)**\n",
        "Let's start by evaluating the performance of various models with default parameters using **5-fold cross-validation** to establish a baseline. This helps us determine how much improvement is possible with model tuning. It's important to note that a high baseline on the validation set does not necessarily mean that the model will perform well on the actual test set. The models we tested and their respective baseline accuracies are: \n",
        "1. Naive Bayes (72.6%)\n",
        "2. Logistic Regression (82.1%)\n",
        "3. Decision Tree (77.6%)\n",
        "4. K Nearest Neighbor (80.5%)\n",
        "5. Random Forest (80.6%)\n",
        "6. Support Vector Classifier (83.2%)\n",
        "7. Xtreme Gradient Boosting (81.8%)\n",
        "8. Soft Voting Classifier - All Models (82.8%)."
      ],
      "metadata": {
        "id": "-p7ufNc9D3Lb"
      }
    },
    {
      "cell_type": "code",
      "source": [
        "from sklearn.model_selection import cross_val_score\n",
        "from sklearn.naive_bayes import GaussianNB\n",
        "from sklearn.linear_model import LogisticRegression\n",
        "from sklearn import tree\n",
        "from sklearn.neighbors import KNeighborsClassifier\n",
        "from sklearn.ensemble import RandomForestClassifier\n",
        "from sklearn.svm import SVC\n",
        "from xgboost import XGBClassifier\n",
        "from sklearn.ensemble import VotingClassifier"
      ],
      "metadata": {
        "id": "Sh0_cfyNFgOO"
      },
      "execution_count": null,
      "outputs": []
    },
    {
      "cell_type": "markdown",
      "source": [
        "### 5.1.1 Naive Bayes (**only scaled**)\n",
        "Naive Bayes is usually used as a **baseline** for classification tasks. "
      ],
      "metadata": {
        "id": "MfDdgQSYJkZO"
      }
    },
    {
      "cell_type": "code",
      "source": [
        "# Naive Bayes is often used as a baseline for classification tasks\n",
        "gnb = GaussianNB()\n",
        "\n",
        "# Perform 5-fold cross-validation on the scaled training data\n",
        "cv = cross_val_score(gnb, X_train_scaled, y_train, cv=5)\n",
        "\n",
        "# Print the cross-validation scores for each fold\n",
        "print(\"Cross-validation scores:\", cv)\n",
        "\n",
        "# Calculate and print the mean cross-validation score\n",
        "print(\"Mean cross-validation score:\", cv.mean())"
      ],
      "metadata": {
        "colab": {
          "base_uri": "https://localhost:8080/"
        },
        "id": "foFV6bbEGYUK",
        "outputId": "d5334bcf-8e99-4b87-8e23-c0b529ea85a0"
      },
      "execution_count": null,
      "outputs": [
        {
          "output_type": "stream",
          "name": "stdout",
          "text": [
            "Cross-validation scores: [0.61452514 0.63483146 0.79775281 0.78089888 0.61797753]\n",
            "Mean cross-validation score: 0.6891971627644216\n"
          ]
        }
      ]
    },
    {
      "cell_type": "markdown",
      "source": [
        "**Cross-validation** is a method for evaluating the performance of a machine learning model. The dataset is split into several subsets or \"folds,\" and the model is trained and evaluated multiple times, with each fold being used as the test set once and the remaining folds as the training set. This allows for a more accurate estimate of how the model will perform on new, unseen data.\n",
        "\n",
        "The output shows the cross-validation scores for a model, with the five scores listed in an array. The mean of these scores is then calculated to give a single overall score. In this case, the mean cross-validation score is 0.689, which indicates that the model is performing moderately well. "
      ],
      "metadata": {
        "id": "gMtDFxWFI8VR"
      }
    },
    {
      "cell_type": "markdown",
      "source": [
        "### 5.1.2 Logistic Regression (Scaled vs Unscaled)"
      ],
      "metadata": {
        "id": "altWtpu_JuvF"
      }
    },
    {
      "cell_type": "markdown",
      "source": [
        "**Unscaled**"
      ],
      "metadata": {
        "id": "QEFq4lgHLuh0"
      }
    },
    {
      "cell_type": "code",
      "source": [
        "# Create an instance of the logistic regression model with max iteration of 2000\n",
        "lr = LogisticRegression(max_iter=2000)\n",
        "\n",
        "# Perform 5-fold cross-validation on the unscaled training data\n",
        "cv = cross_val_score(lr, X_train, y_train, cv=5)\n",
        "\n",
        "# Print the cross-validation scores for each fold\n",
        "print(\"Cross-validation scores:\", cv)\n",
        "\n",
        "# Calculate and print the mean cross-validation score\n",
        "print(\"Mean cross-validation score:\", cv.mean())"
      ],
      "metadata": {
        "colab": {
          "base_uri": "https://localhost:8080/"
        },
        "id": "iD0tuy94JxWF",
        "outputId": "7e6b772a-c996-4239-ec0b-7134c9cca8f0"
      },
      "execution_count": null,
      "outputs": [
        {
          "output_type": "stream",
          "name": "stdout",
          "text": [
            "Cross-validation scores: [0.82122905 0.80898876 0.80337079 0.79775281 0.87078652]\n",
            "Mean cross-validation score: 0.8204255853367648\n"
          ]
        }
      ]
    },
    {
      "cell_type": "markdown",
      "source": [
        "**Sclaed**"
      ],
      "metadata": {
        "id": "dG7xVuwVLxT8"
      }
    },
    {
      "cell_type": "code",
      "source": [
        "# Create an instance of the logistic regression model with max iteration of 2000\n",
        "lr = LogisticRegression(max_iter=2000)\n",
        "\n",
        "# Perform 5-fold cross-validation on the scaled training data\n",
        "cv = cross_val_score(lr, X_train_scaled, y_train, cv=5)\n",
        "\n",
        "# Print the cross-validation scores for each fold\n",
        "print(\"Cross-validation scores:\", cv)\n",
        "\n",
        "# Calculate and print the mean cross-validation score\n",
        "print(\"Mean cross-validation score:\", cv.mean())"
      ],
      "metadata": {
        "colab": {
          "base_uri": "https://localhost:8080/"
        },
        "id": "N8xamJiGLzG4",
        "outputId": "61f5b9df-0973-40b6-ac57-f0238d1ee72b"
      },
      "execution_count": null,
      "outputs": [
        {
          "output_type": "stream",
          "name": "stdout",
          "text": [
            "Cross-validation scores: [0.82122905 0.80898876 0.80337079 0.80337079 0.87078652]\n",
            "Mean cross-validation score: 0.8215491808423827\n"
          ]
        }
      ]
    },
    {
      "cell_type": "markdown",
      "source": [
        "### 5.1.3 Decision Tree (Scaled vs Unscaled)"
      ],
      "metadata": {
        "id": "rIYW0qZIMx6E"
      }
    },
    {
      "cell_type": "markdown",
      "source": [
        "**Unscaled**"
      ],
      "metadata": {
        "id": "59G9GyNeM89h"
      }
    },
    {
      "cell_type": "code",
      "source": [
        "# Create a DecisionTreeClassifier object\n",
        "dt = tree.DecisionTreeClassifier(random_state = 1)\n",
        "\n",
        "# Using 5-fold cross-validation on training data to evaluate model performance\n",
        "cv = cross_val_score(dt,X_train,y_train,cv=5)\n",
        "\n",
        "# Print cross-validation score for each fold and the mean score\n",
        "print(cv)\n",
        "print(cv.mean())"
      ],
      "metadata": {
        "colab": {
          "base_uri": "https://localhost:8080/"
        },
        "id": "wOyqas2xM8CA",
        "outputId": "5376edbe-b836-42d3-d289-2989b301daf5"
      },
      "execution_count": null,
      "outputs": [
        {
          "output_type": "stream",
          "name": "stdout",
          "text": [
            "[0.76536313 0.78651685 0.83146067 0.71348315 0.80337079]\n",
            "0.7800389178331555\n"
          ]
        }
      ]
    },
    {
      "cell_type": "markdown",
      "source": [
        "**Scaled**"
      ],
      "metadata": {
        "id": "gxwha00hNN08"
      }
    },
    {
      "cell_type": "code",
      "source": [
        "# Create a DecisionTreeClassifier object\n",
        "dt = tree.DecisionTreeClassifier(random_state = 1)\n",
        "\n",
        "# Using 5-fold cross-validation on training data to evaluate model performance\n",
        "cv = cross_val_score(dt,X_train_scaled,y_train,cv=5)\n",
        "\n",
        "# Print cross-validation score for each fold and the mean score\n",
        "print(cv)\n",
        "print(cv.mean())"
      ],
      "metadata": {
        "colab": {
          "base_uri": "https://localhost:8080/"
        },
        "id": "tMZPukhoNPqt",
        "outputId": "4226f26e-9e60-492e-94ae-c1151c9ad1ec"
      },
      "execution_count": null,
      "outputs": [
        {
          "output_type": "stream",
          "name": "stdout",
          "text": [
            "[0.76536313 0.78089888 0.8258427  0.71348315 0.79775281]\n",
            "0.7766681313163015\n"
          ]
        }
      ]
    },
    {
      "cell_type": "markdown",
      "source": [
        "### 5.1.4 K Nearest Neighbor (Scaled vs Unscaled)"
      ],
      "metadata": {
        "id": "fbWHYaaJNk13"
      }
    },
    {
      "cell_type": "markdown",
      "source": [
        "**Unscaled**"
      ],
      "metadata": {
        "id": "dlOFZB_1OTbr"
      }
    },
    {
      "cell_type": "code",
      "source": [
        "knn = KNeighborsClassifier()\n",
        "cv = cross_val_score(knn,X_train,y_train,cv=5)\n",
        "print(cv)\n",
        "print(cv.mean())"
      ],
      "metadata": {
        "colab": {
          "base_uri": "https://localhost:8080/"
        },
        "id": "8ufTguBfOW5v",
        "outputId": "7e818384-168a-4061-9da8-6163faa9bfff"
      },
      "execution_count": null,
      "outputs": [
        {
          "output_type": "stream",
          "name": "stdout",
          "text": [
            "[0.77094972 0.79775281 0.80337079 0.81460674 0.84831461]\n",
            "0.8069989328981231\n"
          ]
        }
      ]
    },
    {
      "cell_type": "markdown",
      "source": [
        "**Scaled**"
      ],
      "metadata": {
        "id": "8JxDFfj6OcR7"
      }
    },
    {
      "cell_type": "code",
      "source": [
        "knn = KNeighborsClassifier()\n",
        "cv = cross_val_score(knn,X_train_scaled,y_train,cv=5)\n",
        "print(cv)\n",
        "print(cv.mean())"
      ],
      "metadata": {
        "colab": {
          "base_uri": "https://localhost:8080/"
        },
        "id": "-A6WGplaNsGo",
        "outputId": "82b856d6-c2c4-496a-cbd0-3cb17cf11728"
      },
      "execution_count": null,
      "outputs": [
        {
          "output_type": "stream",
          "name": "stdout",
          "text": [
            "[0.81564246 0.78089888 0.84269663 0.80337079 0.84831461]\n",
            "0.8181846713953927\n"
          ]
        }
      ]
    },
    {
      "cell_type": "markdown",
      "source": [
        "### 5.1.5 Random Forest (scaled vs unscaled)"
      ],
      "metadata": {
        "id": "bqlTDw5MOmYV"
      }
    },
    {
      "cell_type": "markdown",
      "source": [
        "**Unscaled**"
      ],
      "metadata": {
        "id": "O7RQDLlrOuX-"
      }
    },
    {
      "cell_type": "code",
      "source": [
        "rf = RandomForestClassifier(random_state = 1)\n",
        "cv = cross_val_score(rf,X_train,y_train,cv=5)\n",
        "print(cv)\n",
        "print(cv.mean())"
      ],
      "metadata": {
        "colab": {
          "base_uri": "https://localhost:8080/"
        },
        "id": "7XQiK1ArOsYW",
        "outputId": "b371af55-c7a6-45dd-b477-a021e0560e48"
      },
      "execution_count": null,
      "outputs": [
        {
          "output_type": "stream",
          "name": "stdout",
          "text": [
            "[0.79329609 0.79213483 0.85393258 0.75280899 0.80337079]\n",
            "0.7991086560793421\n"
          ]
        }
      ]
    },
    {
      "cell_type": "markdown",
      "source": [
        "**Scaled**"
      ],
      "metadata": {
        "id": "bX_S16SmO5mT"
      }
    },
    {
      "cell_type": "code",
      "source": [
        "rf = RandomForestClassifier(random_state = 1)\n",
        "cv = cross_val_score(rf,X_train_scaled,y_train,cv=5)\n",
        "print(cv)\n",
        "print(cv.mean())"
      ],
      "metadata": {
        "colab": {
          "base_uri": "https://localhost:8080/"
        },
        "id": "nUNvVHlJO7m3",
        "outputId": "76aaf405-4eb9-4f3c-dbbc-d57630e42dea"
      },
      "execution_count": null,
      "outputs": [
        {
          "output_type": "stream",
          "name": "stdout",
          "text": [
            "[0.79329609 0.78089888 0.85393258 0.75280899 0.80898876]\n",
            "0.7979850605737241\n"
          ]
        }
      ]
    },
    {
      "cell_type": "markdown",
      "source": [
        "### 5.1.6 Support Vector Classifier (**only scaled**)"
      ],
      "metadata": {
        "id": "I9W5BKAvPIQT"
      }
    },
    {
      "cell_type": "code",
      "source": [
        "svc = SVC(probability = True)\n",
        "cv = cross_val_score(svc,X_train_scaled,y_train,cv=5)\n",
        "print(cv)\n",
        "print(cv.mean())"
      ],
      "metadata": {
        "colab": {
          "base_uri": "https://localhost:8080/"
        },
        "id": "8bjOskNoPSLz",
        "outputId": "1a216442-0670-4b6f-aa89-dba622dfc1e4"
      },
      "execution_count": null,
      "outputs": [
        {
          "output_type": "stream",
          "name": "stdout",
          "text": [
            "[0.8547486  0.82022472 0.82022472 0.80337079 0.86516854]\n",
            "0.8327474734793798\n"
          ]
        }
      ]
    },
    {
      "cell_type": "markdown",
      "source": [
        "### 5.1.7 Xtreme Gradient Boosting (**only sclaed**)"
      ],
      "metadata": {
        "id": "vjA1vyEyP1WP"
      }
    },
    {
      "cell_type": "code",
      "source": [
        "xgb = XGBClassifier(random_state =1)\n",
        "cv = cross_val_score(xgb,X_train_scaled,y_train,cv=5)\n",
        "print(cv)\n",
        "print(cv.mean())"
      ],
      "metadata": {
        "colab": {
          "base_uri": "https://localhost:8080/"
        },
        "id": "7nTbFRJvP97a",
        "outputId": "44277eb3-e8d3-43b7-a1c8-ae8119d43fee"
      },
      "execution_count": null,
      "outputs": [
        {
          "output_type": "stream",
          "name": "stdout",
          "text": [
            "[0.81564246 0.80337079 0.86516854 0.78089888 0.8258427 ]\n",
            "0.8181846713953925\n"
          ]
        }
      ]
    },
    {
      "cell_type": "markdown",
      "source": [
        "### **5.1.8 Soft Voting Classifier**  (**only sclaed**)\n",
        "\n",
        "The Voting Classifier is a machine learning ensemble method that combines the predictions of multiple individual models in order to obtain a single prediction.\n",
        "\n",
        "Soft Voting Classifier is an *ensemble learning technique* used in machine learning where multiple models are combined to make a prediction. In Soft Voting, each model gives a **probability score** for each class, and then the scores from each model are **averaged** to give the final prediction. This is different from **Hard Voting**, where the models make a binary decision and the majority decision is taken as the final prediction.\n",
        "\n",
        "In Soft Voting, the *weights of each model* can be adjusted to give more importance to certain models over others. This can be useful in cases where certain models are known to perform better on certain types of data or when there is a trade-off between accuracy and speed. The hard voting classifier counts the number of votes for each predicted class and selects the class with the most votes as the final prediction. In contrast, the soft voting classifier considers the predicted probabilities for each class from all individual models and selects the class with the highest average probability. If the average probability is greater than 50%, it will be counted as the positive class."
      ],
      "metadata": {
        "id": "rVkUjAYbQRWZ"
      }
    },
    {
      "cell_type": "code",
      "source": [
        "# Create a soft voting classifier by providing a list of estimators to the VotingClassifier constructor\n",
        "voting_clf = VotingClassifier(estimators=[('lr', lr), ('knn', knn), ('rf', rf), ('gnb', gnb), ('svc', svc), ('xgb', xgb)], voting='soft') \n",
        "\n",
        "# Evaluate the voting classifier using 5-fold cross validation\n",
        "cv = cross_val_score(voting_clf, X_train_scaled, y_train, cv=5)\n",
        "\n",
        "# Print the cross-validation scores\n",
        "print(cv)\n",
        "\n",
        "# Print the mean cross-validation score\n",
        "print(cv.mean())"
      ],
      "metadata": {
        "colab": {
          "base_uri": "https://localhost:8080/"
        },
        "id": "nPqVPvrhRPBn",
        "outputId": "bd59b2fa-a21e-4d8e-968c-6e0daa8f8b14"
      },
      "execution_count": null,
      "outputs": [
        {
          "output_type": "stream",
          "name": "stdout",
          "text": [
            "[0.8547486  0.83146067 0.8258427  0.79775281 0.85393258]\n",
            "0.8327474734793798\n"
          ]
        }
      ]
    },
    {
      "cell_type": "markdown",
      "source": [
        "cross-validation scores range from 0.797 to 0.855, indicating that the model's performance can vary somewhat depending on the specific split of the data into training and validation sets. However, the mean cross-validation score of 0.833 suggests that the model is performing relatively well overall."
      ],
      "metadata": {
        "id": "5_d3f_u9Vn6W"
      }
    },
    {
      "cell_type": "markdown",
      "source": [
        "Finally, we **train** the **soft classifier model** (as it has the highest cross-validation mean scores) on the entire training set (X_train_scaled, y_train), and the trained model is used to predict the survival outcome for the passengers in the **test** set (X_test_scaled). The predicted outcome is stored in a pandas DataFrame with the passenger IDs and the predicted survival outcome, and it is saved as a CSV file named 'base_submission.csv'.\n",
        "\n",
        "\n",
        "\n"
      ],
      "metadata": {
        "id": "Dwrq1b8MYseA"
      }
    },
    {
      "cell_type": "code",
      "source": [
        "# Fit the voting classifier on the training data\n",
        "voting_clf.fit(X_train_scaled,y_train)\n",
        "\n",
        "# Predict the survival outcomes for the test data using the trained voting classifier\n",
        "y_hat_base_vc = voting_clf.predict(X_test_scaled).astype(int)\n",
        "\n",
        "# Create a dictionary containing the predicted survival outcomes along with the passenger IDs\n",
        "basic_submission = {'PassengerId': df_test.PassengerId, 'Survived': y_hat_base_vc}\n",
        "\n",
        "# Convert the dictionary into a DataFrame\n",
        "base_submission = pd.DataFrame(data=basic_submission)\n",
        "\n",
        "# Save the DataFrame as a CSV file without the index column\n",
        "base_submission.to_csv('base_submission.csv', index=False)"
      ],
      "metadata": {
        "id": "w1UL-QA7Xug5"
      },
      "execution_count": null,
      "outputs": []
    },
    {
      "cell_type": "markdown",
      "source": [
        "## **5.2 Model Tuning (hyperparameter tuning)**\n",
        "\n",
        "Model performance tuning refers to the investigating the performance of a machine learning model through a process called hyperparameter tuning. **Hyperparameter tuning** is an optimization process where the goal is to find the **best combination of hyperparameters** for a given model, which ultimately results in improved model performance.\n",
        "\n",
        "In the context of machine learning, hyperparameters are the parameters that govern the training process and the structure of the model, but they are *not learned during the training process*. Examples of hyperparameters include the **learning rate**, the **number of hidden layers** in a neural network, the **number of trees** in a random forest, or the **regularization strength** in a logistic regression model.\n",
        "\n",
        "Model Tuned Performance is typically assessed by **comparing the performance metrics (accuracy, F1 score, precision, recall, etc.)** of the model before and after tuning the hyperparameters. A higher performance metric after tuning indicates that the model has been improved through hyperparameter optimization.\n",
        "\n",
        "In the context of Model Tuned Performance, both GridSearchCV and RandomizedSearchCV are techniques used for hyperparameter tuning in machine learning models to improve their performance (by searching for the best hyperparameter values).\n",
        "1.\t**GridSearchCV**: This method performs an exhaustive search over a specified parameter grid. It tries *every combination* of the provided hyperparameter values to find the best possible configuration for the model. The model is trained and evaluated using cross-validation for each combination of hyperparameters, and the configuration with the highest average cross-validation score is selected as the best. While this method can be computationally expensive, it ensures that the best possible combination is found within the specified range.\n",
        "2.\t**RandomizedSearchCV**: Instead of trying every combination of hyperparameters like GridSearchCV, this method *randomly samples a fixed number of combinations* from the specified parameter grid. The model is trained and evaluated using cross-validation for each sampled combination of hyperparameters, and the configuration with the highest average cross-validation score is selected as the best. This approach is more computationally efficient than GridSearchCV and can often find a good hyperparameter configuration with fewer iterations. However, it does not guarantee finding the best combination within the specified range as it only samples a subset of the possible combinations. Here, we use it only for **Random Forest** and **XG boosted** model to decrease the testing time.\n",
        "\n",
        "We will not tube Naive Bayes model as it is  used as a **baseline** for classification tasks. \n"
      ],
      "metadata": {
        "id": "kxjeTPN8euLG"
      }
    },
    {
      "cell_type": "code",
      "source": [
        "from sklearn.model_selection import GridSearchCV \n",
        "from sklearn.model_selection import RandomizedSearchCV \n",
        "\n",
        "# Performance reporting function\n",
        "def clf_performance(classifier, model_name):\n",
        "    print(model_name)\n",
        "    print('Best Score: ' + str(classifier.best_score_))\n",
        "    print('Best Parameters: ' + str(classifier.best_params_))"
      ],
      "metadata": {
        "id": "RXB-byLH3x5L"
      },
      "execution_count": null,
      "outputs": []
    },
    {
      "cell_type": "markdown",
      "source": [
        "### 5.2.1 Logistic Regression "
      ],
      "metadata": {
        "id": "_uaY_O6b4cKc"
      }
    },
    {
      "cell_type": "markdown",
      "source": [
        "**Verbosity** controls the level of detail in output messages during the search process, with higher values producing more information. **Parallelization**, specified by the n_jobs parameter, determines the number of simultaneous jobs, speeding up the search process. Setting n_jobs=-1 utilizes all available processors, while positive integers limit the number of processors used."
      ],
      "metadata": {
        "id": "v-mM4Nr85vqu"
      }
    },
    {
      "cell_type": "code",
      "source": [
        "# Instantiate a Logistic Regression model\n",
        "lr = LogisticRegression()\n",
        "\n",
        "# Define the parameter grid for GridSearchCV\n",
        "param_grid = {\n",
        "    'max_iter': [2000],  # Maximum number of iterations for the solver\n",
        "    'penalty': ['l1', 'l2'],  # Regularization penalty to be used: L1 or L2\n",
        "    'C': np.logspace(-4, 4, 20),  # Inverse of regularization strength\n",
        "    'solver': ['liblinear']  # Solver algorithm to be used in the optimization problem\n",
        "}\n",
        "\n",
        "# Set up the GridSearchCV with the model, parameter grid, cross-validation settings, verbosity, and parallelization\n",
        "clf_lr = GridSearchCV(lr, param_grid=param_grid, cv=5, verbose=True, n_jobs=-1)\n",
        "\n",
        "# Fit the GridSearchCV to the training data to find the best hyperparameters\n",
        "best_clf_lr = clf_lr.fit(X_train_scaled, y_train)\n",
        "\n",
        "# Evaluate the performance of the best Logistic Regression model found by GridSearchCV\n",
        "clf_performance(best_clf_lr, 'Logistic Regression')"
      ],
      "metadata": {
        "colab": {
          "base_uri": "https://localhost:8080/"
        },
        "id": "Fehmx7ph49OQ",
        "outputId": "2e793529-a614-411f-9df2-82af366ce03a"
      },
      "execution_count": null,
      "outputs": [
        {
          "output_type": "stream",
          "name": "stdout",
          "text": [
            "Fitting 5 folds for each of 40 candidates, totalling 200 fits\n",
            "Logistic Regression\n",
            "Best Score: 0.8215491808423827\n",
            "Best Parameters: {'C': 4.281332398719396, 'max_iter': 2000, 'penalty': 'l1', 'solver': 'liblinear'}\n"
          ]
        }
      ]
    },
    {
      "cell_type": "markdown",
      "source": [
        "### 5.2.2 K Nearest Neighbor "
      ],
      "metadata": {
        "id": "gQ9L60uj-Ivx"
      }
    },
    {
      "cell_type": "code",
      "source": [
        "# Instantiate a K-Nearest Neighbors model\n",
        "knn = KNeighborsClassifier()\n",
        "\n",
        "# Define the parameter grid for GridSearchCV\n",
        "param_grid = {\n",
        "    'n_neighbors': [3, 5, 7, 9],  # Number of neighbors to consider\n",
        "    'weights': ['uniform', 'distance'],  # Weighting function for neighbors\n",
        "    'algorithm': ['auto', 'ball_tree', 'kd_tree'],  # Algorithm to compute the nearest neighbors\n",
        "    'p': [1, 2]  # Distance metric: 1 = Manhattan, 2 = Euclidean\n",
        "}\n",
        "\n",
        "# Create the GridSearchCV object for the KNN model\n",
        "clf_knn = GridSearchCV(knn, param_grid=param_grid, cv=5, verbose=True, n_jobs=-1)\n",
        "\n",
        "# Fit the GridSearchCV object to the training data\n",
        "best_clf_knn = clf_knn.fit(X_train_scaled, y_train)\n",
        "\n",
        "# Evaluate the KNN model's performance and display the best parameters\n",
        "clf_performance(best_clf_knn, 'KNN')"
      ],
      "metadata": {
        "colab": {
          "base_uri": "https://localhost:8080/"
        },
        "id": "NnKo6iiP-NNe",
        "outputId": "76433fd0-e6d8-4e58-cc6f-168309ff139a"
      },
      "execution_count": null,
      "outputs": [
        {
          "output_type": "stream",
          "name": "stdout",
          "text": [
            "Fitting 5 folds for each of 48 candidates, totalling 240 fits\n",
            "KNN\n",
            "Best Score: 0.8227041616973196\n",
            "Best Parameters: {'algorithm': 'auto', 'n_neighbors': 9, 'p': 1, 'weights': 'uniform'}\n"
          ]
        }
      ]
    },
    {
      "cell_type": "markdown",
      "source": [
        "### 5.2.3 Support Vector Classifier"
      ],
      "metadata": {
        "id": "eD3Id7Yn_diI"
      }
    },
    {
      "cell_type": "code",
      "source": [
        "# Instantiate a Support Vector Classifier (SVC) with probability estimates enabled\n",
        "svc = SVC(probability=True)\n",
        "\n",
        "# Define the parameter grid for GridSearchCV\n",
        "param_grid = [\n",
        "    {\n",
        "        'kernel': ['rbf'],  # Radial basis function kernel\n",
        "        'gamma': [.1, .5, 1, 2, 5, 10],  # Kernel coefficient for 'rbf'\n",
        "        'C': [.1, 1, 10, 100, 1000]  # Regularization parameter\n",
        "    },\n",
        "    {\n",
        "        'kernel': ['linear'],  # Linear kernel\n",
        "        'C': [.1, 1, 10, 100, 1000]  # Regularization parameter\n",
        "    },\n",
        "    {\n",
        "        'kernel': ['poly'],  # Polynomial kernel\n",
        "        'degree': [2, 3, 4, 5],  # Degree of the polynomial kernel function\n",
        "        'C': [.1, 1, 10, 100, 1000]  # Regularization parameter\n",
        "    }\n",
        "]\n",
        "\n",
        "# Perform a grid search using the defined parameter grid and cross-validation with 5 folds\n",
        "clf_svc = GridSearchCV(svc, param_grid=param_grid, cv=5, verbose=True, n_jobs=-1)\n",
        "\n",
        "# Fit the grid search to the training data and get the best estimator\n",
        "best_clf_svc = clf_svc.fit(X_train_scaled, y_train)\n",
        "\n",
        "# Evaluate the performance of the best estimator\n",
        "clf_performance(best_clf_svc, 'SVC')"
      ],
      "metadata": {
        "colab": {
          "base_uri": "https://localhost:8080/"
        },
        "id": "STK3NLAp_hmv",
        "outputId": "d088b84a-8e10-4394-c3d0-aec148beb182"
      },
      "execution_count": null,
      "outputs": [
        {
          "output_type": "stream",
          "name": "stdout",
          "text": [
            "Fitting 5 folds for each of 55 candidates, totalling 275 fits\n",
            "SVC\n",
            "Best Score: 0.8338710689849979\n",
            "Best Parameters: {'C': 1, 'gamma': 0.1, 'kernel': 'rbf'}\n"
          ]
        }
      ]
    },
    {
      "cell_type": "markdown",
      "source": [
        "### 5.2.4 Random Forest \n",
        "\n",
        "**Ken Jee**: \"Because the total feature space is so large, I used a randomized search to narrow down the paramters for the model. I took the best model from this and did a more granular search\" "
      ],
      "metadata": {
        "id": "qIs-8N4FBjPl"
      }
    },
    {
      "cell_type": "code",
      "source": [
        "# Randomized Search\n",
        "\"\"\"\n",
        "rf = RandomForestClassifier(random_state = 1)\n",
        "param_grid =  {'n_estimators': [100,500,1000], \n",
        "                                  'bootstrap': [True,False],\n",
        "                                  'max_depth': [3,5,10,20,50,75,100,None],\n",
        "                                  'max_features': ['auto','sqrt'],\n",
        "                                  'min_samples_leaf': [1,2,4,10],\n",
        "                                  'min_samples_split': [2,5,10]}\n",
        "                                  \n",
        "clf_rf_rnd = RandomizedSearchCV(rf, param_distributions = param_grid, n_iter = 100, cv = 5, verbose = True, n_jobs = -1)\n",
        "best_clf_rf_rnd = clf_rf_rnd.fit(X_train_scaled,y_train)\n",
        "clf_performance(best_clf_rf_rnd,'Random Forest')\"\"\""
      ],
      "metadata": {
        "colab": {
          "base_uri": "https://localhost:8080/",
          "height": 105
        },
        "id": "xssgQSAMCjSp",
        "outputId": "f5992478-7b76-4ba0-d9f5-bcd94608106a"
      },
      "execution_count": null,
      "outputs": [
        {
          "output_type": "execute_result",
          "data": {
            "text/plain": [
              "\"\\nrf = RandomForestClassifier(random_state = 1)\\nparam_grid =  {'n_estimators': [100,500,1000], \\n                                  'bootstrap': [True,False],\\n                                  'max_depth': [3,5,10,20,50,75,100,None],\\n                                  'max_features': ['auto','sqrt'],\\n                                  'min_samples_leaf': [1,2,4,10],\\n                                  'min_samples_split': [2,5,10]}\\n                                  \\nclf_rf_rnd = RandomizedSearchCV(rf, param_distributions = param_grid, n_iter = 100, cv = 5, verbose = True, n_jobs = -1)\\nbest_clf_rf_rnd = clf_rf_rnd.fit(X_train_scaled,y_train)\\nclf_performance(best_clf_rf_rnd,'Random Forest')\""
            ],
            "application/vnd.google.colaboratory.intrinsic+json": {
              "type": "string"
            }
          },
          "metadata": {},
          "execution_count": 60
        }
      ]
    },
    {
      "cell_type": "code",
      "source": [
        "# Grid Search\n",
        "# Instantiate a Random Forest Classifier with a specified random state\n",
        "rf = RandomForestClassifier(random_state=1)\n",
        "\n",
        "# Define the parameter grid for GridSearchCV\n",
        "param_grid = {\n",
        "    'n_estimators': [400, 450, 500, 550],  # Number of trees in the forest\n",
        "    'criterion': ['gini', 'entropy'],  # Function to measure the quality of a split\n",
        "    'bootstrap': [True],  # Whether bootstrap samples are used when building trees\n",
        "    'max_depth': [15, 20, 25],  # Maximum depth of the tree\n",
        "    'max_features': ['auto', 'sqrt', 10],  # Number of features to consider when looking for the best split\n",
        "    'min_samples_leaf': [2, 3],  # Minimum number of samples required at a leaf node\n",
        "    'min_samples_split': [2, 3]  # Minimum number of samples required to split an internal node\n",
        "}\n",
        "\n",
        "# Perform a grid search using the defined parameter grid and cross-validation with 5 folds\n",
        "clf_rf = GridSearchCV(rf, param_grid=param_grid, cv=5, verbose=True, n_jobs=-1)\n",
        "\n",
        "# Fit the grid search to the training data and get the best estimator\n",
        "best_clf_rf = clf_rf.fit(X_train_scaled, y_train)\n",
        "\n",
        "# Evaluate the performance of the best estimator\n",
        "clf_performance(best_clf_rf, 'Random Forest')"
      ],
      "metadata": {
        "colab": {
          "base_uri": "https://localhost:8080/"
        },
        "id": "T8FXsivLCHiI",
        "outputId": "822658d5-70a6-4b83-b1fa-39d1434c7f73"
      },
      "execution_count": null,
      "outputs": [
        {
          "output_type": "stream",
          "name": "stdout",
          "text": [
            "Fitting 5 folds for each of 288 candidates, totalling 1440 fits\n",
            "Random Forest\n",
            "Best Score: 0.8395141547925429\n",
            "Best Parameters: {'bootstrap': True, 'criterion': 'entropy', 'max_depth': 15, 'max_features': 10, 'min_samples_leaf': 3, 'min_samples_split': 2, 'n_estimators': 400}\n"
          ]
        }
      ]
    },
    {
      "cell_type": "markdown",
      "source": [
        "#### 5.2.4.2 Visualizing Top 20 Feature Importances for the Best Random Forest Model\n",
        "\n",
        "Here, we fit the best Random Forest model found by GridSearchCV to the training data. We then compute the feature importances for the best model and map them to the feature names. Finally, we select the top 20 features with the highest importance and plot them using a horizontal bar chart."
      ],
      "metadata": {
        "id": "EAWJWUCpEl1h"
      }
    },
    {
      "cell_type": "code",
      "source": [
        "# Fit the best Random Forest model found by GridSearchCV to the training data\n",
        "best_rf = best_clf_rf.best_estimator_.fit(X_train_scaled, y_train)\n",
        "\n",
        "# Compute the feature importances for the best model and map them to the feature names\n",
        "feat_importances = pd.Series(best_rf.feature_importances_, index=X_train_scaled.columns)\n",
        "\n",
        "# Select and plot the top 20 features with the highest importance\n",
        "feat_importances.nlargest(20).plot(kind='barh') # horizontal bar plot of 20 largest values \n",
        "# Print 10 features with the highest importance\n",
        "feat_importances.nlargest(10)"
      ],
      "metadata": {
        "colab": {
          "base_uri": "https://localhost:8080/",
          "height": 456
        },
        "id": "gfANFNBNEs5S",
        "outputId": "74022432-8f82-4ff2-a87d-29697ff2d5c5"
      },
      "execution_count": null,
      "outputs": [
        {
          "output_type": "execute_result",
          "data": {
            "text/plain": [
              "Fare_boxcox    0.203298\n",
              "Age            0.150746\n",
              "Title_Mr       0.129351\n",
              "Sex_female     0.111516\n",
              "Sex_male       0.107504\n",
              "Pclass_3       0.069773\n",
              "SibSp          0.053445\n",
              "Pclass_1       0.038518\n",
              "Parch          0.024340\n",
              "Pclass_2       0.022370\n",
              "dtype: float64"
            ]
          },
          "metadata": {},
          "execution_count": 62
        },
        {
          "output_type": "display_data",
          "data": {
            "text/plain": [
              "<Figure size 432x288 with 1 Axes>"
            ],
            "image/png": "[encoded data removed]"
          },
          "metadata": {
            "needs_background": "light"
          }
        }
      ]
    },
    {
      "cell_type": "code",
      "source": [
        "feat_importances.nlargest(20)"
      ],
      "metadata": {
        "colab": {
          "base_uri": "https://localhost:8080/"
        },
        "id": "HewHb1R5M-Nk",
        "outputId": "6a42e41b-5c92-4bd9-a2c1-f56782549aec"
      },
      "execution_count": null,
      "outputs": [
        {
          "output_type": "execute_result",
          "data": {
            "text/plain": [
              "Fare_boxcox     0.203298\n",
              "Age             0.150746\n",
              "Title_Mr        0.129351\n",
              "Sex_female      0.111516\n",
              "Sex_male        0.107504\n",
              "Pclass_3        0.069773\n",
              "SibSp           0.053445\n",
              "Pclass_1        0.038518\n",
              "Parch           0.024340\n",
              "Pclass_2        0.022370\n",
              "Title_Mrs       0.017372\n",
              "Title_Miss      0.017313\n",
              "Title_Master    0.016245\n",
              "Embarked_S      0.014225\n",
              "Embarked_C      0.011605\n",
              "Embarked_Q      0.007739\n",
              "Title_Rev       0.004149\n",
              "Title_Dr        0.000493\n",
              "Title_Capt      0.000000\n",
              "Title_Col       0.000000\n",
              "dtype: float64"
            ]
          },
          "metadata": {},
          "execution_count": 63
        }
      ]
    },
    {
      "cell_type": "markdown",
      "source": [
        "### 5.2.5 Xtreme Gradient Boosting"
      ],
      "metadata": {
        "id": "sq3hWRF1Oh4b"
      }
    },
    {
      "cell_type": "code",
      "source": [
        "# Randomized Search\n",
        "\"\"\"xgb = XGBClassifier(random_state = 1)\n",
        "\n",
        "param_grid = {\n",
        "    'n_estimators': [20, 50, 100, 250, 500,1000],\n",
        "    'colsample_bytree': [0.2, 0.5, 0.7, 0.8, 1],\n",
        "    'max_depth': [2, 5, 10, 15, 20, 25, None],\n",
        "    'reg_alpha': [0, 0.5, 1],\n",
        "    'reg_lambda': [1, 1.5, 2],\n",
        "    'subsample': [0.5,0.6,0.7, 0.8, 0.9],\n",
        "    'learning_rate':[.01,0.1,0.2,0.3,0.5, 0.7, 0.9],\n",
        "    'gamma':[0,.01,.1,1,10,100],\n",
        "    'min_child_weight':[0,.01,0.1,1,10,100],\n",
        "    'sampling_method': ['uniform', 'gradient_based']\n",
        "}\n",
        "\n",
        "#clf_xgb = GridSearchCV(xgb, param_grid = param_grid, cv = 5, verbose = True, n_jobs = -1)\n",
        "#best_clf_xgb = clf_xgb.fit(X_train_scaled,y_train)\n",
        "#clf_performance(best_clf_xgb,'XGB')\n",
        "clf_xgb_rnd = RandomizedSearchCV(xgb, param_distributions = param_grid, n_iter = 1000, cv = 5, verbose = True, n_jobs = -1)\n",
        "best_clf_xgb_rnd = clf_xgb_rnd.fit(X_train_scaled,y_train)\n",
        "clf_performance(best_clf_xgb_rnd,'XGB')\"\"\""
      ],
      "metadata": {
        "colab": {
          "base_uri": "https://localhost:8080/",
          "height": 139
        },
        "id": "YaS5SekAOz5T",
        "outputId": "9b592430-efd9-46ca-eeb2-0724ba5b46ab"
      },
      "execution_count": null,
      "outputs": [
        {
          "output_type": "execute_result",
          "data": {
            "text/plain": [
              "\"xgb = XGBClassifier(random_state = 1)\\n\\nparam_grid = {\\n    'n_estimators': [20, 50, 100, 250, 500,1000],\\n    'colsample_bytree': [0.2, 0.5, 0.7, 0.8, 1],\\n    'max_depth': [2, 5, 10, 15, 20, 25, None],\\n    'reg_alpha': [0, 0.5, 1],\\n    'reg_lambda': [1, 1.5, 2],\\n    'subsample': [0.5,0.6,0.7, 0.8, 0.9],\\n    'learning_rate':[.01,0.1,0.2,0.3,0.5, 0.7, 0.9],\\n    'gamma':[0,.01,.1,1,10,100],\\n    'min_child_weight':[0,.01,0.1,1,10,100],\\n    'sampling_method': ['uniform', 'gradient_based']\\n}\\n\\n#clf_xgb = GridSearchCV(xgb, param_grid = param_grid, cv = 5, verbose = True, n_jobs = -1)\\n#best_clf_xgb = clf_xgb.fit(X_train_scaled,y_train)\\n#clf_performance(best_clf_xgb,'XGB')\\nclf_xgb_rnd = RandomizedSearchCV(xgb, param_distributions = param_grid, n_iter = 1000, cv = 5, verbose = True, n_jobs = -1)\\nbest_clf_xgb_rnd = clf_xgb_rnd.fit(X_train_scaled,y_train)\\nclf_performance(best_clf_xgb_rnd,'XGB')\""
            ],
            "application/vnd.google.colaboratory.intrinsic+json": {
              "type": "string"
            }
          },
          "metadata": {},
          "execution_count": 64
        }
      ]
    },
    {
      "cell_type": "code",
      "source": [
        "# Grid Search\n",
        "# Instantiate an XGBoost classifier with a random state of 1\n",
        "xgb = XGBClassifier(random_state=1)\n",
        "\n",
        "# Define the parameter grid for GridSearchCV\n",
        "param_grid = {\n",
        "    'n_estimators': [450, 500, 550],  # Number of boosted trees to fit\n",
        "    'colsample_bytree': [0.75, 0.8, 0.85],  # Subsample ratio of columns when constructing each tree\n",
        "    'max_depth': [None],  # Maximum tree depth for base learners\n",
        "    'reg_alpha': [1],  # L1 regularization term on weights\n",
        "    'reg_lambda': [2, 5, 10],  # L2 regularization term on weights\n",
        "    'subsample': [0.55, 0.6, 0.65],  # Subsample ratio of the training instances\n",
        "    'learning_rate': [0.5],  # Boosting learning rate\n",
        "    'gamma': [0.5, 1, 2],  # Minimum loss reduction required to make a further partition on a leaf node of the tree\n",
        "    'min_child_weight': [0.01],  # Minimum sum of instance weight needed in a child\n",
        "    'sampling_method': ['uniform']  # The method to use to sample weights\n",
        "}\n",
        "\n",
        "# Instantiate GridSearchCV with the XGBoost classifier, parameter grid, 5-fold cross-validation, verbosity, and parallelization settings\n",
        "clf_xgb = GridSearchCV(xgb, param_grid=param_grid, cv=5, verbose=True, n_jobs=-1)\n",
        "\n",
        "# Fit the GridSearchCV to the training data to find the best XGBoost model\n",
        "best_clf_xgb = clf_xgb.fit(X_train_scaled, y_train)\n",
        "\n",
        "# Display the performance metrics for the best XGBoost model found\n",
        "clf_performance(best_clf_xgb, 'XGB')  "
      ],
      "metadata": {
        "colab": {
          "base_uri": "https://localhost:8080/"
        },
        "id": "Rkiz1Ym8PIR1",
        "outputId": "573aa3d5-fe43-48b8-e2e3-df48485ba823"
      },
      "execution_count": null,
      "outputs": [
        {
          "output_type": "stream",
          "name": "stdout",
          "text": [
            "Fitting 5 folds for each of 243 candidates, totalling 1215 fits\n",
            "XGB\n",
            "Best Score: 0.8485091959073504\n",
            "Best Parameters: {'colsample_bytree': 0.85, 'gamma': 0.5, 'learning_rate': 0.5, 'max_depth': None, 'min_child_weight': 0.01, 'n_estimators': 550, 'reg_alpha': 1, 'reg_lambda': 10, 'sampling_method': 'uniform', 'subsample': 0.55}\n"
          ]
        }
      ]
    },
    {
      "cell_type": "markdown",
      "source": [
        "## **5.3 Ensemble Learning**\n",
        "Ensemble learning is a machine learning technique that *combines* multiple base models to create a more accurate and robust final model.  \n",
        "There are several approaches to ensemble learning, including bagging, boosting, and stacking.\n",
        "1.\t**Bagging** (Bootstrap Aggregating): Bagging aims to improve the stability and reduce the variance of a single model by training multiple base models **independently** on different subsets of the training data.  Random Forest is a popular bagging algorithm that uses decision trees as base models.\n",
        "2.\t**Boosting**: Boosting is an iterative technique that adjusts the weights of training instances to focus on the ones that are harder to predict. It trains base models **sequentially**, where each subsequent model aims to correct the errors made by the previous model. The final prediction is made by combining the weighted predictions of all the base models. Gradient Boosting Machine (GBM) and Adaptive Boosting (AdaBoost) are well-known boosting algorithms.\n",
        "3.\t**Stacking**: Stacking **combines** the predictions of multiple base models using a meta-model or meta-learner.  \n",
        "Ensemble learning is particularly useful when dealing with complex problems, noisy data, or when a single model is prone to overfitting. By combining the outputs of multiple models, ensemble learning can produce a more stable and accurate model that generalizes well to new, unseen data.\n",
        "\n",
        "In the following, we create four different ensemble models using the VotingClassifier. These models combine the predictions of the best estimators found through previous hyperparameter tuning for different base classifiers (KNN, Random Forest, SVC, Logistic Regression, and XGBoost).\n",
        "1.\tvoting_clf_hard: A **hard voting** ensemble model using KNN, Random Forest, and SVC as base classifiers. It predicts the class with the majority of votes from the base classifiers.\n",
        "2.\tvoting_clf_soft: A **soft voting** ensemble model using KNN, Random Forest, and SVC as base classifiers. It predicts the class with the highest average probability from the base classifiers.\n",
        "3.\tvoting_clf_all: A **soft voting** ensemble model using KNN, Random Forest, SVC, and Logistic Regression as base classifiers. It predicts the class with the highest average probability from the base classifiers.\n",
        "4.\tvoting_clf_xgb: A **soft voting** ensemble model using KNN, Random Forest, SVC, XGBoost, and Logistic Regression as base classifiers. It predicts the class with the highest average probability from the base classifiers.\n",
        "By combining the predictions of multiple base classifiers, these ensemble models aim to achieve better performance and generalization compared to using a single classifier.\n",
        "\n",
        "Model Additional Ensemble Approaches:\n",
        "\n",
        "1) Experimented with a hard voting classifier of three estimators (KNN, SVM, RF) (81.6%)\n",
        "\n",
        "2) **Experimented with a soft voting classifier of three estimators (KNN, SVM, RF) (82.3%) (Best Performance)**\n",
        "\n",
        "3) Experimented with soft voting on all estimators performing better than 80% except xgb (KNN, RF, LR, SVC) (82.9%)\n",
        "\n",
        "4) Experimented with soft voting on all estimators including XGB (KNN, SVM, RF, LR, XGB) (83.5%)"
      ],
      "metadata": {
        "id": "7Nz8BQlwYcUG"
      }
    },
    {
      "cell_type": "code",
      "source": [
        "# Store the best estimators from each individual model\n",
        "best_lr = best_clf_lr.best_estimator_\n",
        "best_knn = best_clf_knn.best_estimator_\n",
        "best_svc = best_clf_svc.best_estimator_\n",
        "best_rf = best_clf_rf.best_estimator_\n",
        "best_xgb = best_clf_xgb.best_estimator_\n",
        "\n",
        "# Create ensemble models using VotingClassifier with different combinations of models and voting strategies\n",
        "voting_clf_hard = VotingClassifier(estimators = [('knn', best_knn), ('rf', best_rf), ('svc', best_svc)], voting = 'hard')  # Hard voting with KNN, RF, and SVC\n",
        "voting_clf_soft = VotingClassifier(estimators = [('knn', best_knn), ('rf', best_rf), ('svc', best_svc)], voting = 'soft')  # Soft voting with KNN, RF, and SVC\n",
        "voting_clf_all = VotingClassifier(estimators = [('knn', best_knn), ('rf', best_rf), ('svc', best_svc), ('lr', best_lr)], voting = 'soft')  # Soft voting with KNN, RF, SVC, and LR\n",
        "voting_clf_xgb = VotingClassifier(estimators = [('knn', best_knn), ('rf', best_rf), ('svc', best_svc), ('xgb', best_xgb), ('lr', best_lr)], voting = 'soft')  # Soft voting with KNN, RF, SVC, XGB, and LR\n",
        "\n",
        "# Evaluate the performance of each ensemble model using cross-validation\n",
        "print('voting_clf_hard :',cross_val_score(voting_clf_hard,X_train,y_train,cv=5))\n",
        "print('voting_clf_hard mean :',cross_val_score(voting_clf_hard,X_train,y_train,cv=5).mean())\n",
        "\n",
        "print('voting_clf_soft :',cross_val_score(voting_clf_soft,X_train,y_train,cv=5))\n",
        "print('voting_clf_soft mean :',cross_val_score(voting_clf_soft,X_train,y_train,cv=5).mean())\n",
        "\n",
        "print('voting_clf_all :',cross_val_score(voting_clf_all,X_train,y_train,cv=5))\n",
        "print('voting_clf_all mean :',cross_val_score(voting_clf_all,X_train,y_train,cv=5).mean())\n",
        "\n",
        "print('voting_clf_xgb :',cross_val_score(voting_clf_xgb,X_train,y_train,cv=5))\n",
        "print('voting_clf_xgb mean :',cross_val_score(voting_clf_xgb,X_train,y_train,cv=5).mean())"
      ],
      "metadata": {
        "colab": {
          "base_uri": "https://localhost:8080/"
        },
        "id": "ylXkCfandoeM",
        "outputId": "0faf9f95-0e5c-4422-f6b4-bfd5e25db24c"
      },
      "execution_count": null,
      "outputs": [
        {
          "output_type": "stream",
          "name": "stdout",
          "text": [
            "voting_clf_hard : [0.79329609 0.81460674 0.83146067 0.80337079 0.83146067]\n",
            "voting_clf_hard mean : 0.8148389931579938\n",
            "voting_clf_soft : [0.80446927 0.8258427  0.8258427  0.79775281 0.85955056]\n",
            "voting_clf_soft mean : 0.8226916075575922\n",
            "voting_clf_all : [0.82122905 0.8258427  0.8258427  0.79213483 0.85955056]\n",
            "voting_clf_all mean : 0.8249199673592367\n",
            "voting_clf_xgb : [0.82681564 0.83146067 0.84831461 0.79213483 0.85393258]\n",
            "voting_clf_xgb mean : 0.8316552633230808\n"
          ]
        }
      ]
    },
    {
      "cell_type": "markdown",
      "source": [
        "These results provide a comparison of the performance of each ensemble model. The highest mean cross-validation score is achieved by the **voting_clf_xgb model** **(0.8305)**, which combines KNN, RF, SVC, XGB, and LR with soft voting. The performance is evaluated using cross-validation with a 5-fold split of the training data. Each ensemble model uses a different combination of models and voting strategies.\n",
        "1.\t*voting_clf_hard* is an ensemble model using hard voting with KNN, RF, and SVC. The cross-validation scores for each of the 5 folds are displayed, followed by the mean cross-validation score (0.8148). Hard voting means that the final prediction is based on the majority vote of the classifiers.\n",
        "2.\t*voting_clf_soft* is an ensemble model using soft voting with KNN, RF, and SVC. The cross-validation scores for each of the 5 folds are displayed, followed by the mean cross-validation score (0.8227). Soft voting means that the final prediction is based on the weighted sum of the predicted probabilities of each classifier.\n",
        "3.\t*voting_clf_all* is an ensemble model using soft voting with KNN, RF, SVC, and LR. The cross-validation scores for each of the 5 folds are displayed, followed by the mean cross-validation score (0.8249). This model also uses soft voting, but it includes an additional Logistic Regression classifier.\n",
        "4.\t*voting_clf_xgb* is an ensemble model using soft voting with KNN, RF, SVC, XGB, and LR. The cross-validation scores for each of the 5 folds are displayed, followed by the mean cross-validation score (0.8305). This model also uses soft voting, but it includes an additional XGBoost classifier.\n"
      ],
      "metadata": {
        "id": "JpbrUIx6e60R"
      }
    },
    {
      "cell_type": "markdown",
      "source": [
        "### 5.3.1 Fine-Tuning Soft Voting Classifier with Grid Search to Optimize Model Weights"
      ],
      "metadata": {
        "id": "AKiOxIM4hErq"
      }
    },
    {
      "cell_type": "markdown",
      "source": [
        "This code is attempting to fine-tune a soft voting classifier by assigning different weights to the individual models. In a soft voting classifier, the final prediction is based on the weighted sum of the predicted probabilities of each classifier. By adjusting the weights, the classifier can emphasize the importance of certain models over others.\n",
        "1.\tA list of possible weight combinations is defined in the variable **params**. These weights will be applied to the individual models (KNN, RF, and SVC) within the soft voting classifier.\n",
        "2.\t**GridSearchCV** is used to explore the different weightings for the soft voting classifier (**voting_clf_soft**). The grid search iterates through all the possible weight combinations in params and evaluates the performance of the classifier using 5-fold cross-validation.\n",
        "3.\tThe **fit** function is called on **vote_weight** to train the soft voting classifier with different weight combinations using the scaled training data (X_train_scaled and y_train).\n",
        "4.\tThe **clf_performance** function is called to display the performance of the **best weight combination** found during the grid search (best_clf_weight).\n",
        "5.\tThe best weight combination is then used to make predictions on the scaled test data (X_test_scaled). The predictions are stored in the variable **voting_clf_sub**.\n"
      ],
      "metadata": {
        "id": "kmBv_jhAf1aa"
      }
    },
    {
      "cell_type": "code",
      "source": [
        "# Define the possible weight combinations for the individual models within the soft voting classifier\n",
        "params = {'weights': [[1, 1, 1], [1, 2, 1], [1, 1, 2], [2, 1, 1], [2, 2, 1], [1, 2, 2], [2, 1, 2]]}\n",
        "\n",
        "# Perform a grid search to find the optimal weights for the soft voting classifier\n",
        "vote_weight = GridSearchCV(voting_clf_soft, param_grid=params, cv=5, verbose=True, n_jobs=-1)\n",
        "\n",
        "# Fit the grid search to the training data\n",
        "best_clf_weight = vote_weight.fit(X_train_scaled, y_train)\n",
        "\n",
        "# Display the performance of the best weighted soft voting classifier\n",
        "clf_performance(best_clf_weight, 'VC Weights') # VC Weights: a string used as a label or identifier for the specific classifier being evaluated ( Voting Classifier with optimized weights)\n",
        "\n",
        "# Use the best weighted soft voting classifier to make predictions on the test set\n",
        "voting_clf_sub = best_clf_weight.best_estimator_.predict(X_test_scaled)"
      ],
      "metadata": {
        "colab": {
          "base_uri": "https://localhost:8080/"
        },
        "id": "hvesxg_3f1HE",
        "outputId": "efeda636-186b-4c51-e99b-9a06344f43ee"
      },
      "execution_count": null,
      "outputs": [
        {
          "output_type": "stream",
          "name": "stdout",
          "text": [
            "Fitting 5 folds for each of 7 candidates, totalling 35 fits\n",
            "VC Weights\n",
            "Best Score: 0.8338899001945892\n",
            "Best Parameters: {'weights': [2, 2, 1]}\n"
          ]
        }
      ]
    },
    {
      "cell_type": "markdown",
      "source": [
        "This code output shows the results of the grid search optimization process for finding the best weights for the individual models within the soft voting classifier.\n",
        "1.\tThe grid search performs a total of 35 fits, as there are 7 possible weight combinations (defined in params) and 5-fold cross-validation is used (5 fits for each weight combination).\n",
        "2.\tThe \"VC Weights\" label is displayed to indicate that this output corresponds to the performance of the soft voting classifier with optimized weights.\n",
        "3.\tThe best score achieved during the grid search is 0.8338899001945892. This score is a measure of the classifier's performance, likely accuracy, though it could be another metric like F1-score depending on the clf_performance function implementation.\n",
        "4.\tThe best parameters found during the grid search are {'weights': [2, 2, 1]}. This indicates that the optimal weight combination for the individual models in the soft voting classifier is 2 for the first model (KNN), 2 for the second model (RF), and 1 for the third model (SVC).\n",
        "5.\tFinally, the best weighted soft voting classifier (with weights [2, 2, 1]) is used to make predictions on the test set (X_test_scaled). These predictions are stored in the voting_clf_sub variable.\n",
        "\n",
        "In summary, the output demonstrates that the soft voting classifier with optimized weights ([2, 2, 1]) (2 for (KNN), 2 for (RF), and 1 (SVC)) yields a better performance score (0.8338899001945892) compared to the initial classifier without weight optimization. This optimized classifier is then used to make predictions on the test data.\n"
      ],
      "metadata": {
        "id": "vM-wUZewjJ5B"
      }
    },
    {
      "cell_type": "markdown",
      "source": [
        "## 5.4 Predictions\n",
        "\n",
        "We now train different ensemble classifiers and a single RandomForest classifier on the scaled training data and makes predictions on the scaled test data."
      ],
      "metadata": {
        "id": "C4QSkZ1gkKys"
      }
    },
    {
      "cell_type": "code",
      "source": [
        "# Train ensemble classifiers and the best RandomForest classifier on the scaled training data\n",
        "voting_clf_hard.fit(X_train_scaled, y_train)  # Train hard voting classifier\n",
        "voting_clf_soft.fit(X_train_scaled, y_train)  # Train soft voting classifier\n",
        "voting_clf_all.fit(X_train_scaled, y_train)   # Train soft voting classifier with Logistic Regression\n",
        "voting_clf_xgb.fit(X_train_scaled, y_train)   # Train soft voting classifier with XGBoost\n",
        "best_rf.fit(X_train_scaled, y_train)          # Train best RandomForest classifier\n",
        "\n",
        "# Make predictions using trained classifiers on the scaled test data\n",
        "y_hat_vc_hard = voting_clf_hard.predict(X_test_scaled).astype(int)  # Predictions from hard voting classifier\n",
        "y_hat_rf = best_rf.predict(X_test_scaled).astype(int)               # Predictions from RandomForest classifier\n",
        "y_hat_vc_soft =  voting_clf_soft.predict(X_test_scaled).astype(int) # Predictions from soft voting classifier\n",
        "y_hat_vc_all = voting_clf_all.predict(X_test_scaled).astype(int)    # Predictions from soft voting classifier with Logistic Regression\n",
        "y_hat_vc_xgb = voting_clf_xgb.predict(X_test_scaled).astype(int)    # Predictions from soft voting classifier with XGBoost\n"
      ],
      "metadata": {
        "id": "fIff7IVsq5st"
      },
      "execution_count": null,
      "outputs": []
    },
    {
      "cell_type": "code",
      "source": [
        "# Convert predictions to dataframes for submission and comparison\n",
        "final_data = {'PassengerId': df_test.PassengerId, 'Survived': y_hat_rf}\n",
        "submission = pd.DataFrame(data=final_data)  # DataFrame for RandomForest predictions\n",
        "\n",
        "final_data_2 = {'PassengerId': df_test.PassengerId, 'Survived': y_hat_vc_hard}\n",
        "submission_2 = pd.DataFrame(data=final_data_2)  # DataFrame for hard voting classifier predictions\n",
        "\n",
        "final_data_3 = {'PassengerId': df_test.PassengerId, 'Survived': y_hat_vc_soft}\n",
        "submission_3 = pd.DataFrame(data=final_data_3)  # DataFrame for soft voting classifier predictions\n",
        "\n",
        "final_data_4 = {'PassengerId': df_test.PassengerId, 'Survived': y_hat_vc_all}\n",
        "submission_4 = pd.DataFrame(data=final_data_4)  # DataFrame for soft voting classifier with Logistic Regression predictions\n",
        "\n",
        "final_data_5 = {'PassengerId': df_test.PassengerId, 'Survived': y_hat_vc_xgb}\n",
        "submission_5 = pd.DataFrame(data=final_data_5)  # DataFrame for soft voting classifier with XGBoost predictions\n",
        "\n",
        "# DataFrame for comparing predictions from different classifiers\n",
        "final_data_comp = {'PassengerId': df_test.PassengerId, 'Survived_vc_hard': y_hat_vc_hard,\n",
        "                   'Survived_rf': y_hat_rf, 'Survived_vc_soft': y_hat_vc_soft, 'Survived_vc_all': y_hat_vc_all,  'Survived_vc_xgb': y_hat_vc_xgb}\n",
        "comparison = pd.DataFrame(data=final_data_comp)\n"
      ],
      "metadata": {
        "id": "cQ_ozxVXroj4"
      },
      "execution_count": null,
      "outputs": []
    },
    {
      "cell_type": "code",
      "source": [
        "# Calculate differences between classifier outputs for comparison\n",
        "\n",
        "# Differences between RandomForest and hard voting classifier predictions\n",
        "comparison['difference_rf_vc_hard'] = comparison.apply(lambda x: 1 if x.Survived_vc_hard != x.Survived_rf else 0, axis=1)  \n",
        "\n",
        "# Differences between hard and soft voting classifier predictions\n",
        "comparison['difference_soft_hard'] = comparison.apply(lambda x: 1 if x.Survived_vc_hard != x.Survived_vc_soft else 0, axis=1) \n",
        "  \n",
        " # Differences between hard voting classifier and soft voting classifier with Logistic Regression predictions\n",
        "comparison['difference_hard_all'] = comparison.apply(lambda x: 1 if x.Survived_vc_all != x.Survived_vc_hard else 0, axis=1)   \n"
      ],
      "metadata": {
        "id": "Turfp41Cs8Xx"
      },
      "execution_count": null,
      "outputs": []
    },
    {
      "cell_type": "code",
      "source": [
        "# Count the number of instances where predictions differ between hard voting classifier and soft voting classifier with Logistic Regression\n",
        "comparison.difference_hard_all.value_counts()"
      ],
      "metadata": {
        "colab": {
          "base_uri": "https://localhost:8080/"
        },
        "id": "spr8bj5Zt6YN",
        "outputId": "b902cf16-0483-4e3e-eeaf-804c58124cd7"
      },
      "execution_count": null,
      "outputs": [
        {
          "output_type": "execute_result",
          "data": {
            "text/plain": [
              "0    407\n",
              "1     11\n",
              "Name: difference_hard_all, dtype: int64"
            ]
          },
          "metadata": {},
          "execution_count": 71
        }
      ]
    },
    {
      "cell_type": "code",
      "source": [
        "# Prepare submission files for each classifier\n",
        "submission.to_csv('submission_rf.csv', index=False)         # Save Random Forest predictions to a CSV file\n",
        "submission_2.to_csv('submission_vc_hard.csv', index=False)  # Save Hard Voting Classifier predictions to a CSV file\n",
        "submission_3.to_csv('submission_vc_soft.csv', index=False)  # Save Soft Voting Classifier predictions to a CSV file\n",
        "submission_4.to_csv('submission_vc_all.csv', index=False)   # Save Soft Voting Classifier with Logistic Regression predictions to a CSV file\n",
        "submission_5.to_csv('submission_vc_xgb2.csv', index=False)  # Save Soft Voting Classifier with XGBoost and Logistic Regression predictions to a CSV file\n"
      ],
      "metadata": {
        "id": "2fYgFi8quNrX"
      },
      "execution_count": null,
      "outputs": []
    },
    {
      "cell_type": "markdown",
      "source": [
        "# **6. Deep Learning**\n",
        "1. **TensorFlow** ***{Multi-Layer Perceptron (MLP) classifier}***\n",
        "2. **SKLEARN** ***{Multi-Layer Perceptron (MLP) classifier}***"
      ],
      "metadata": {
        "id": "y3FmLOZjJAX3"
      }
    },
    {
      "cell_type": "code",
      "source": [
        "import tensorflow as tf\n",
        "from tensorflow.keras.models import Sequential\n",
        "from tensorflow.keras.layers import Dense, Dropout\n",
        "import logging\n",
        "from tensorflow.keras.callbacks import EarlyStopping"
      ],
      "metadata": {
        "id": "5zsxKRngJNb3"
      },
      "execution_count": null,
      "outputs": []
    },
    {
      "cell_type": "markdown",
      "source": [
        "## 6.1 Split Scaled Dataset (train, test)"
      ],
      "metadata": {
        "id": "2GtBca37M4gW"
      }
    },
    {
      "cell_type": "code",
      "source": [
        "from sklearn.model_selection import train_test_split\n",
        "\n",
        "# explinatory variable (i.e., everything except the target varaible)\n",
        "X = X_train_scaled\n",
        "# target variable\n",
        "y = y_train\n",
        "\n",
        "# split the data into training and testing sets using train_test_split function\n",
        "# test_size=0.33 indicates that we want to reserve 33% of the data for testing\n",
        "# random_state=42 is a seed value to ensure reproducibility of the random split\n",
        "X_train_dl, X_test_dl, y_train_dl, y_test_dl = train_test_split(X, y, test_size=0.2, random_state=42)"
      ],
      "metadata": {
        "id": "c1abWQNxNAZU"
      },
      "execution_count": null,
      "outputs": []
    },
    {
      "cell_type": "markdown",
      "source": [
        "## 6.2 Model Building (TensorFlow)"
      ],
      "metadata": {
        "id": "enkXParBvKd1"
      }
    },
    {
      "cell_type": "code",
      "source": [
        "# Create a sequential model object\n",
        "model = Sequential()\n",
        "\n",
        "# Add a dense layer with 78 output neurons with a ReLU activation function\n",
        "model.add(Dense(78, activation='relu'))\n",
        "# Add a dropout layer to prevent overfitting (20% of neurons will be switched off in each epoch )\n",
        "model.add(Dropout(0.2))\n",
        "# Add another dense layer with 19 output neurons, with a ReLU activation function\n",
        "model.add(Dense(39, activation='relu'))\n",
        "# Add another dropout layer to prevent overfitting (20% of neurons will be switched off in each epoch )\n",
        "model.add(Dropout(0.2))\n",
        "# Add another dense layer with 19 output neurons, with a ReLU activation function\n",
        "model.add(Dense(19, activation='relu'))\n",
        "# Add another dropout layer to prevent overfitting (20% of neurons will be switched off in each epoch )\n",
        "model.add(Dropout(0.2))\n",
        "# Add another dense layer with 19 output neurons, with a ReLU activation function\n",
        "model.add(Dense(19, activation='relu'))\n",
        "# Add another dropout layer to prevent overfitting (20% of neurons will be switched off in each epoch )\n",
        "model.add(Dropout(0.2))\n",
        "\n",
        "# Add the output layer with 1 neuron and a sigmoid activation function, since it's a binary classification problem\n",
        "model.add(Dense(1, activation='sigmoid'))\n",
        "\n",
        "# Compile the model with binary crossentropy loss function, Adam optimizer and accuracy as a metric\n",
        "model.compile(loss='binary_crossentropy', optimizer='adam', metrics=['accuracy'])\n",
        "\n",
        "# Set up early stopping to prevent overfitting\n",
        "early_stop = EarlyStopping(monitor='val_loss', mode='min', verbose=1, patience=5)"
      ],
      "metadata": {
        "id": "VqtvxTIDJSdq"
      },
      "execution_count": null,
      "outputs": []
    },
    {
      "cell_type": "markdown",
      "source": [
        "**monitor='val_loss'** is a parameter of EarlyStopping function in Keras that specifies the quantity to be monitored for early stopping. In this case, val_loss is used, which stands for the validation loss. It means the EarlyStopping function monitors the validation loss during training, and it stops the training process when the validation loss does not improve for a certain number of epochs specified by the patience parameter.\n",
        "\n",
        "**verbose=1** means that during training, Keras will print a message for each epoch to show the progress of the training. Specifically, it will print the epoch number, the training loss, and any validation metrics being tracked (if applicable).\n",
        "\n",
        "**patience=5** sets the number of epochs to wait before stopping the training if there is no improvement in the validation loss. In other words, if the validation loss does not improve after 5 epochs, the training will be stopped early. This is done to prevent overfitting of the model on the training data. If the patience value is too small, the training may stop too early and the model may not reach its optimal performance. If it is too large, the model may overfit to the training data. The value of patience can be adjusted based on the specific dataset and model being used."
      ],
      "metadata": {
        "id": "d_msqJPnJZS4"
      }
    },
    {
      "cell_type": "code",
      "source": [
        "# running the model\n",
        "model.fit(x=X_train_dl, y=y_train_dl, epochs=50, batch_size=256, validation_data=(X_test_dl, y_test_dl), callbacks=[early_stop])"
      ],
      "metadata": {
        "colab": {
          "base_uri": "https://localhost:8080/"
        },
        "id": "TtfeCmAMJayR",
        "outputId": "3247ab66-45df-490a-a5da-3a65a700049e"
      },
      "execution_count": null,
      "outputs": [
        {
          "output_type": "stream",
          "name": "stdout",
          "text": [
            "Epoch 1/50\n",
            "3/3 [==============================] - 3s 396ms/step - loss: 0.6818 - accuracy: 0.5716 - val_loss: 0.6702 - val_accuracy: 0.7542\n",
            "Epoch 2/50\n",
            "3/3 [==============================] - 0s 31ms/step - loss: 0.6676 - accuracy: 0.6475 - val_loss: 0.6577 - val_accuracy: 0.7598\n",
            "Epoch 3/50\n",
            "3/3 [==============================] - 0s 37ms/step - loss: 0.6622 - accuracy: 0.6404 - val_loss: 0.6460 - val_accuracy: 0.7374\n",
            "Epoch 4/50\n",
            "3/3 [==============================] - 0s 44ms/step - loss: 0.6457 - accuracy: 0.6840 - val_loss: 0.6323 - val_accuracy: 0.7430\n",
            "Epoch 5/50\n",
            "3/3 [==============================] - 0s 38ms/step - loss: 0.6386 - accuracy: 0.7022 - val_loss: 0.6166 - val_accuracy: 0.7430\n",
            "Epoch 6/50\n",
            "3/3 [==============================] - 0s 38ms/step - loss: 0.6250 - accuracy: 0.6896 - val_loss: 0.6000 - val_accuracy: 0.7654\n",
            "Epoch 7/50\n",
            "3/3 [==============================] - 0s 29ms/step - loss: 0.6156 - accuracy: 0.6854 - val_loss: 0.5826 - val_accuracy: 0.7933\n",
            "Epoch 8/50\n",
            "3/3 [==============================] - 0s 34ms/step - loss: 0.5944 - accuracy: 0.7191 - val_loss: 0.5649 - val_accuracy: 0.8101\n",
            "Epoch 9/50\n",
            "3/3 [==============================] - 0s 41ms/step - loss: 0.5877 - accuracy: 0.7219 - val_loss: 0.5468 - val_accuracy: 0.7933\n",
            "Epoch 10/50\n",
            "3/3 [==============================] - 0s 30ms/step - loss: 0.5679 - accuracy: 0.7416 - val_loss: 0.5292 - val_accuracy: 0.8101\n",
            "Epoch 11/50\n",
            "3/3 [==============================] - 0s 28ms/step - loss: 0.5457 - accuracy: 0.7584 - val_loss: 0.5112 - val_accuracy: 0.8156\n",
            "Epoch 12/50\n",
            "3/3 [==============================] - 0s 37ms/step - loss: 0.5298 - accuracy: 0.7809 - val_loss: 0.4940 - val_accuracy: 0.8156\n",
            "Epoch 13/50\n",
            "3/3 [==============================] - 0s 34ms/step - loss: 0.5178 - accuracy: 0.7584 - val_loss: 0.4792 - val_accuracy: 0.8156\n",
            "Epoch 14/50\n",
            "3/3 [==============================] - 0s 31ms/step - loss: 0.5096 - accuracy: 0.7725 - val_loss: 0.4662 - val_accuracy: 0.8045\n",
            "Epoch 15/50\n",
            "3/3 [==============================] - 0s 39ms/step - loss: 0.5124 - accuracy: 0.7795 - val_loss: 0.4559 - val_accuracy: 0.7989\n",
            "Epoch 16/50\n",
            "3/3 [==============================] - 0s 37ms/step - loss: 0.4968 - accuracy: 0.7823 - val_loss: 0.4472 - val_accuracy: 0.7989\n",
            "Epoch 17/50\n",
            "3/3 [==============================] - 0s 37ms/step - loss: 0.4972 - accuracy: 0.7963 - val_loss: 0.4401 - val_accuracy: 0.7989\n",
            "Epoch 18/50\n",
            "3/3 [==============================] - 0s 36ms/step - loss: 0.4863 - accuracy: 0.8006 - val_loss: 0.4346 - val_accuracy: 0.8045\n",
            "Epoch 19/50\n",
            "3/3 [==============================] - 0s 37ms/step - loss: 0.5018 - accuracy: 0.8034 - val_loss: 0.4304 - val_accuracy: 0.8045\n",
            "Epoch 20/50\n",
            "3/3 [==============================] - 0s 29ms/step - loss: 0.4947 - accuracy: 0.7935 - val_loss: 0.4271 - val_accuracy: 0.8045\n",
            "Epoch 21/50\n",
            "3/3 [==============================] - 0s 37ms/step - loss: 0.4667 - accuracy: 0.8034 - val_loss: 0.4243 - val_accuracy: 0.8101\n",
            "Epoch 22/50\n",
            "3/3 [==============================] - 0s 37ms/step - loss: 0.4822 - accuracy: 0.8118 - val_loss: 0.4222 - val_accuracy: 0.8101\n",
            "Epoch 23/50\n",
            "3/3 [==============================] - 0s 32ms/step - loss: 0.4873 - accuracy: 0.8118 - val_loss: 0.4205 - val_accuracy: 0.8101\n",
            "Epoch 24/50\n",
            "3/3 [==============================] - 0s 37ms/step - loss: 0.4701 - accuracy: 0.8104 - val_loss: 0.4195 - val_accuracy: 0.8101\n",
            "Epoch 25/50\n",
            "3/3 [==============================] - 0s 27ms/step - loss: 0.4630 - accuracy: 0.7992 - val_loss: 0.4188 - val_accuracy: 0.8045\n",
            "Epoch 26/50\n",
            "3/3 [==============================] - 0s 32ms/step - loss: 0.4736 - accuracy: 0.7949 - val_loss: 0.4185 - val_accuracy: 0.7989\n",
            "Epoch 27/50\n",
            "3/3 [==============================] - 0s 37ms/step - loss: 0.4640 - accuracy: 0.8048 - val_loss: 0.4185 - val_accuracy: 0.8101\n",
            "Epoch 28/50\n",
            "3/3 [==============================] - 0s 34ms/step - loss: 0.4545 - accuracy: 0.8202 - val_loss: 0.4182 - val_accuracy: 0.8101\n",
            "Epoch 29/50\n",
            "3/3 [==============================] - 0s 42ms/step - loss: 0.4481 - accuracy: 0.8202 - val_loss: 0.4176 - val_accuracy: 0.8101\n",
            "Epoch 30/50\n",
            "3/3 [==============================] - 0s 38ms/step - loss: 0.4550 - accuracy: 0.8301 - val_loss: 0.4177 - val_accuracy: 0.8101\n",
            "Epoch 31/50\n",
            "3/3 [==============================] - 0s 36ms/step - loss: 0.4300 - accuracy: 0.8258 - val_loss: 0.4178 - val_accuracy: 0.8101\n",
            "Epoch 32/50\n",
            "3/3 [==============================] - 0s 37ms/step - loss: 0.4400 - accuracy: 0.8104 - val_loss: 0.4183 - val_accuracy: 0.8101\n",
            "Epoch 33/50\n",
            "3/3 [==============================] - 0s 39ms/step - loss: 0.4281 - accuracy: 0.8230 - val_loss: 0.4185 - val_accuracy: 0.8156\n",
            "Epoch 34/50\n",
            "3/3 [==============================] - 0s 44ms/step - loss: 0.4269 - accuracy: 0.8258 - val_loss: 0.4185 - val_accuracy: 0.8156\n",
            "Epoch 34: early stopping\n"
          ]
        },
        {
          "output_type": "execute_result",
          "data": {
            "text/plain": [
              "<keras.callbacks.History at 0x7f3369f785e0>"
            ]
          },
          "metadata": {},
          "execution_count": 76
        }
      ]
    },
    {
      "cell_type": "markdown",
      "source": [
        "This code trains the model on the training data (X_train_dl and y_train_dl) with 50 epochs and a batch size of 256. The model's performance on unseen data is monitored using the **validation data (X_test and y_test)**. The **early_stop** callback is used to prevent overfitting by stopping the training process when the **validation loss** does not improve after 5 epochs."
      ],
      "metadata": {
        "id": "oMTHTbYVJg0f"
      }
    },
    {
      "cell_type": "markdown",
      "source": [
        "## 6.3 Model Performance Demonstration (TensorFlow)"
      ],
      "metadata": {
        "id": "er_zkqzcvh_k"
      }
    },
    {
      "cell_type": "code",
      "source": [
        "# plotting the loss and accuracy\n",
        "history = model.history.history\n",
        "loss = pd.DataFrame(history['loss'])\n",
        "val_loss = pd.DataFrame(history['val_loss'])\n",
        "acc = pd.DataFrame(history['accuracy'])\n",
        "val_acc = pd.DataFrame(history['val_accuracy'])\n",
        "\n",
        "fig, (ax1, ax2) = plt.subplots(nrows=1, ncols=2, figsize=(15, 5))\n",
        "\n",
        "# plot loss\n",
        "ax1.plot(loss, label='train_loss')\n",
        "ax1.plot(val_loss, label='val_loss')\n",
        "ax1.set_title('Training and Validation Loss')\n",
        "ax1.set_xlabel('Epoch')\n",
        "ax1.set_ylabel('Loss')\n",
        "ax1.legend()\n",
        "ax1.grid(True)\n",
        "\n",
        "# plot accuracy\n",
        "ax2.plot(acc, label='train_accuracy')\n",
        "ax2.plot(val_acc, label='val_accuracy')\n",
        "ax2.set_title('Training and Validation Accuracy')\n",
        "ax2.set_xlabel('Epoch')\n",
        "ax2.set_ylabel('Accuracy')\n",
        "ax2.legend()\n",
        "ax2.grid(True)\n",
        "\n",
        "\n",
        "plt.show()\n"
      ],
      "metadata": {
        "colab": {
          "base_uri": "https://localhost:8080/",
          "height": 350
        },
        "id": "kXQOY90GJnWY",
        "outputId": "64a54607-f859-488a-fb30-bacf33305307"
      },
      "execution_count": null,
      "outputs": [
        {
          "output_type": "display_data",
          "data": {
            "text/plain": [
              "<Figure size 1080x360 with 2 Axes>"
            ],
            "image/png": "[encoded data removed]"
          },
          "metadata": {
            "needs_background": "light"
          }
        }
      ]
    },
    {
      "cell_type": "markdown",
      "source": [
        "**\"train_loss\"** refers to the *error between the predicted output* of the model and the ***true output***. This error is calculated during each iteration of the training process, and the goal of training is to minimize this error.\n",
        "\n",
        "**\"Val_loss\"** or \"validation loss\" refers to the *error or loss* calculated on a separate validation dataset, which is distinct from the training data. This validation dataset is used to evaluate the model's performance on ***unseen/test data***, and to prevent overfitting during training. By monitoring both the training loss and validation loss, we can check whether the model is overfitting, and adjust the model's architecture or parameters accordingly to improve its performance."
      ],
      "metadata": {
        "id": "ztj0bjYKJtWW"
      }
    },
    {
      "cell_type": "markdown",
      "source": [
        "### **6.4** **Classification Report (TensorFlow)**\n",
        "A classification report is a comprehensive summary of performance metrics for a classification model. It is a tabular representation that provides insight into the effectiveness of the model by displaying various evaluation metrics for each class label. The classification report is generated by comparing the true class labels with the predicted class labels obtained from the model."
      ],
      "metadata": {
        "id": "fDF5t_X-J-yL"
      }
    },
    {
      "cell_type": "code",
      "source": [
        "from sklearn.metrics import classification_report\n",
        "\n",
        "# Make predictions using the trained model\n",
        "y_pred_probs = model.predict(X_test_dl)\n",
        "\n",
        "# Convert the predicted probabilities into class labels (threshold at 0.5 for binary classification)\n",
        "y_pred = (y_pred_probs > 0.5).astype('int32')\n",
        "\n",
        "# Print the classification report\n",
        "print(classification_report(y_test_dl, y_pred))"
      ],
      "metadata": {
        "colab": {
          "base_uri": "https://localhost:8080/"
        },
        "id": "1-gS76d1KExC",
        "outputId": "996c1aa6-9869-4292-d3de-76027a45db44"
      },
      "execution_count": null,
      "outputs": [
        {
          "output_type": "stream",
          "name": "stdout",
          "text": [
            "6/6 [==============================] - 0s 4ms/step\n",
            "              precision    recall  f1-score   support\n",
            "\n",
            "         0.0       0.83      0.87      0.85       105\n",
            "         1.0       0.80      0.74      0.77        74\n",
            "\n",
            "    accuracy                           0.82       179\n",
            "   macro avg       0.81      0.80      0.81       179\n",
            "weighted avg       0.81      0.82      0.81       179\n",
            "\n"
          ]
        }
      ]
    },
    {
      "cell_type": "markdown",
      "source": [
        "The metrics are calculated separately for each class (0 and 1) and are also summarized as an overall accuracy. Here's an interpretation of the results:\n",
        "1.\tClass 0 (Negative class):\n",
        "•\t**Precision**: 0.83 indicates that, out of all the instances predicted as class 0, 81% were actually class 0.\n",
        "•\t**Recall**: 0.87 indicates that, out of all the true class 0 instances, the model correctly identified 88% of them.\n",
        "•\t**F1-score**: 0.85 is the harmonic mean of precision and recall. It provides a single metric that balances precision and recall. A higher F1-score (closer to 1) indicates better performance.\n",
        "2.\tClass 1 (Positive class):\n",
        "•\tPrecision: 0.80 indicates that, out of all the instances predicted as class 1, 80% were actually class 1.\n",
        "•\tRecall: 0.74 indicates that, out of all the true class 1 instances, the model correctly identified only 72% of them.\n",
        "•\tF1-score: 0.77 is the harmonic mean of precision and recall for class 1. In this case, the F1-score is lower than class 0, indicating that the model's performance on the positive class is not as good as on the negative class.\n",
        "3.\t***Accuracy: 0.82*** is the overall accuracy of the model, indicating that the model correctly classified 81% of the instances in the test dataset.\n",
        "The results show that the model performs very well on class 0 but not as well with class 1, especially in terms of recall. This might be due to class imbalance or other factors affecting the model's ability to generalize well on the positive class. To improve the model's performance on the positive class, you can consider using resampling techniques, adjusting the model architecture, or applying other strategies."
      ],
      "metadata": {
        "id": "wwtfJeMqKSni"
      }
    },
    {
      "cell_type": "markdown",
      "source": [
        "## 6.5 Model Building (SKLEARN)"
      ],
      "metadata": {
        "id": "gb_-mfDyE5Y6"
      }
    },
    {
      "cell_type": "code",
      "source": [
        "from sklearn.neural_network import MLPClassifier\n",
        "from sklearn.metrics import classification_report, accuracy_score\n",
        "\n",
        "# Create an instance of MLPClassifier\n",
        "mlp_clf = MLPClassifier(hidden_layer_sizes=(100,), random_state=42)\n",
        "\n",
        "# Fit the classifier to the training data\n",
        "mlp_clf.fit(X_train_dl, y_train_dl)\n",
        "\n",
        "# Make predictions on the test set\n",
        "y_pred_dl = mlp_clf.predict(X_test_dl)\n",
        "\n",
        "# Evaluate the classifier's performance\n",
        "print(\"Accuracy:\", accuracy_score(y_test_dl, y_pred_dl))\n",
        "print(classification_report(y_test_dl, y_pred_dl))"
      ],
      "metadata": {
        "colab": {
          "base_uri": "https://localhost:8080/"
        },
        "id": "h4vU_ivoFFpH",
        "outputId": "2902ff3c-5445-421b-8e5c-b123956d00fe"
      },
      "execution_count": null,
      "outputs": [
        {
          "output_type": "stream",
          "name": "stdout",
          "text": [
            "Accuracy: 0.8379888268156425\n",
            "              precision    recall  f1-score   support\n",
            "\n",
            "         0.0       0.83      0.90      0.87       105\n",
            "         1.0       0.85      0.74      0.79        74\n",
            "\n",
            "    accuracy                           0.84       179\n",
            "   macro avg       0.84      0.82      0.83       179\n",
            "weighted avg       0.84      0.84      0.84       179\n",
            "\n"
          ]
        },
        {
          "output_type": "stream",
          "name": "stderr",
          "text": [
            "/usr/local/lib/python3.9/dist-packages/sklearn/neural_network/_multilayer_perceptron.py:686: ConvergenceWarning: Stochastic Optimizer: Maximum iterations (200) reached and the optimization hasn't converged yet.\n",
            "  warnings.warn(\n"
          ]
        }
      ]
    },
    {
      "cell_type": "markdown",
      "source": [
        "## 6.7 Model Tuning (SKLEARN)"
      ],
      "metadata": {
        "id": "AZUH50elFgXs"
      }
    },
    {
      "cell_type": "markdown",
      "source": [
        "This code will will use **Grid Search** search through various hyperparameters for the MLP classifier, including different hidden layer configurations, activation functions, optimization algorithms, learning rate schedules, and initial learning rates. You can adjust the values in the parameter grid to explore other hyperparameter combinations.\n",
        "\n",
        "Please note that hyperparameter tuning for neural networks can be computationally expensive and time-consuming. You might want to consider using a more advanced method like **Random Search** or Bayesian optimization for more efficient tuning."
      ],
      "metadata": {
        "id": "3odAW3IfF0nq"
      }
    },
    {
      "cell_type": "code",
      "source": [
        "from sklearn.model_selection import GridSearchCV\n",
        "\n",
        "# Performance reporting function\n",
        "def clf_performance_dl(classifier, model_name):\n",
        "    print(model_name)\n",
        "    print('Best Score: ' + str(classifier.best_score_))\n",
        "    print('Best Parameters: ' + str(classifier.best_params_))\n",
        "\n",
        "# Instantiate an MLPClassifier model\n",
        "mlp = MLPClassifier(random_state=42)\n",
        "\n",
        "# Define the parameter grid for GridSearchCV\n",
        "param_grid_dl = {\n",
        "    'hidden_layer_sizes': [(100,), (100, 50), (50, 50), (100,100,50)],  # Different hidden layer configurations\n",
        "    'activation': ['relu', 'tanh'],  # Activation functions\n",
        "    'solver': ['adam', 'sgd'],  # Optimization algorithms\n",
        "    'learning_rate': ['constant', 'adaptive'],  # Learning rate schedules\n",
        "    'learning_rate_init': [0.001, 0.01],  # Initial learning rates\n",
        "    'max_iter': [500, 1000],  # Maximum number of iterations for the solver\n",
        "}\n",
        "\n",
        "# Create the GridSearchCV object for the MLP model\n",
        "clf_mlp = GridSearchCV(mlp, param_grid=param_grid_dl, cv=5, verbose=True, n_jobs=-1)\n",
        "\n",
        "# Fit the GridSearchCV object to the training data\n",
        "best_clf_mlp = clf_mlp.fit(X_train_dl, y_train_dl)\n",
        "\n",
        "# Evaluate the MLP model's performance and display the best parameters\n",
        "clf_performance_dl(best_clf_mlp, 'MLP Classifier')\n"
      ],
      "metadata": {
        "colab": {
          "base_uri": "https://localhost:8080/"
        },
        "id": "BpimsknLGflm",
        "outputId": "cd4fdfe0-f4ff-4707-f9f0-4b42a0726747"
      },
      "execution_count": null,
      "outputs": [
        {
          "output_type": "stream",
          "name": "stdout",
          "text": [
            "Fitting 5 folds for each of 128 candidates, totalling 640 fits\n",
            "MLP Classifier\n",
            "Best Score: 0.8314192849404117\n",
            "Best Parameters: {'activation': 'relu', 'hidden_layer_sizes': (100, 100, 50), 'learning_rate': 'constant', 'learning_rate_init': 0.001, 'max_iter': 1000, 'solver': 'sgd'}\n"
          ]
        }
      ]
    }
  ]
}